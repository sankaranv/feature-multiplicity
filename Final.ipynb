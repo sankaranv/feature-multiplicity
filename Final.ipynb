{
 "cells": [
  {
   "cell_type": "code",
   "execution_count": 1,
   "metadata": {},
   "outputs": [
    {
     "name": "stdout",
     "output_type": "stream",
     "text": [
      "In IPython\n",
      "Set autoreload\n"
     ]
    }
   ],
   "source": [
    "import json\n",
    "from sae_lens import SAE, HookedSAETransformer\n",
    "from transformer_lens import HookedTransformer\n",
    "from functools import partial\n",
    "import einops\n",
    "import os\n",
    "import gc\n",
    "import torch\n",
    "import torch.nn as nn\n",
    "import matplotlib.pyplot as plt\n",
    "import torch.optim as optim\n",
    "from datasets import load_dataset\n",
    "from transformers import AutoTokenizer\n",
    "from transformer_lens.hook_points import (\n",
    "    HookPoint,\n",
    ")\n",
    "import numpy as np\n",
    "import pandas as pd\n",
    "from pprint import pprint as pp\n",
    "from typing import Tuple\n",
    "from torch import Tensor\n",
    "from functools import lru_cache\n",
    "from typing import TypedDict, Optional, Tuple, Union\n",
    "from tqdm import tqdm\n",
    "import random\n",
    "from utils import *"
   ]
  },
  {
   "cell_type": "code",
   "execution_count": 2,
   "metadata": {},
   "outputs": [
    {
     "name": "stdout",
     "output_type": "stream",
     "text": [
      "Using device: cuda\n",
      "Using Hugging Face cache directory: /work/pi_jensen_umass_edu/svaidyanatha_umass_edu/huggingface\n"
     ]
    }
   ],
   "source": [
    "device = \"cuda\" if torch.cuda.is_available() else \"cpu\"\n",
    "print(f\"Using device: {device}\")\n",
    "hf_cache = os.environ.get(\"HF_HOME\", None)\n",
    "print(f\"Using Hugging Face cache directory: {hf_cache}\")"
   ]
  },
  {
   "cell_type": "code",
   "execution_count": 3,
   "metadata": {},
   "outputs": [
    {
     "name": "stderr",
     "output_type": "stream",
     "text": [
      "WARNING:root:You tried to specify center_unembed=True for a model using logit softcap, but this can't be done! Softcapping is not invariant upon adding a constant Setting center_unembed=False instead.\n"
     ]
    },
    {
     "name": "stdout",
     "output_type": "stream",
     "text": [
      "Loading model: google/gemma-2-2b...\n"
     ]
    },
    {
     "data": {
      "application/vnd.jupyter.widget-view+json": {
       "model_id": "fb993501b7d64493a90d2c600ac7a0cf",
       "version_major": 2,
       "version_minor": 0
      },
      "text/plain": [
       "Loading checkpoint shards:   0%|          | 0/3 [00:00<?, ?it/s]"
      ]
     },
     "metadata": {},
     "output_type": "display_data"
    },
    {
     "name": "stderr",
     "output_type": "stream",
     "text": [
      "WARNING:root:You are not using LayerNorm, so the writing weights can't be centered! Skipping\n"
     ]
    },
    {
     "name": "stdout",
     "output_type": "stream",
     "text": [
      "Loaded pretrained model google/gemma-2-2b into HookedTransformer\n"
     ]
    }
   ],
   "source": [
    "# Load the model\n",
    "model_name = \"google/gemma-2-2b\"  # Replace with the desired model name\n",
    "print(f\"Loading model: {model_name}...\")\n",
    "model = HookedSAETransformer.from_pretrained(model_name, device=device, cache_dir=hf_cache)"
   ]
  },
  {
   "cell_type": "code",
   "execution_count": 4,
   "metadata": {},
   "outputs": [
    {
     "name": "stdout",
     "output_type": "stream",
     "text": [
      "Current working directory: /work/pi_jensen_umass_edu/svaidyanatha_umass_edu/projects/feature-multiplicity\n"
     ]
    }
   ],
   "source": [
    "import json\n",
    "\n",
    "# Change dir\n",
    "os.chdir(\"/work/pi_jensen_umass_edu/svaidyanatha_umass_edu/projects/feature-multiplicity\")\n",
    "print(f\"Current working directory: {os.getcwd()}\")\n",
    "\n",
    "# Load IOI datasets\n",
    "eng_ioi_dataset = json.load(open(\"./data/ioi/eng_ioi.json\"))\n",
    "spa_ioi_dataset = json.load(open(\"./data/ioi/esp_ioi.json\"))\n",
    "fra_ioi_dataset = json.load(open(\"./data/ioi/fra_ioi.json\"))\n",
    "# deu_ioi_dataset = json.load(open(\"./data/ioi/deu_ioi.json\"))\n",
    "datasets = {\n",
    "    \"English\": eng_ioi_dataset,\n",
    "    \"Spanish\": spa_ioi_dataset,\n",
    "    \"French\": fra_ioi_dataset,\n",
    "    # \"German\": deu_ioi_dataset,\n",
    "}"
   ]
  },
  {
   "cell_type": "code",
   "execution_count": 5,
   "metadata": {},
   "outputs": [],
   "source": [
    "languages = datasets.keys()\n",
    "data_batches = {lang: {\"prompts\": [], \"answers\": []} for lang in languages}\n",
    "n_samples = 50\n",
    "seed = 42\n",
    "random.seed(seed)\n",
    "\n",
    "def generate_batches(model, datasets, languages, n_samples):\n",
    "    prompt_idxs = list(range(len(datasets[\"English\"])))\n",
    "    random.shuffle(prompt_idxs)\n",
    "\n",
    "    for lang in languages:\n",
    "        prompts = [item[\"clean_prefix\"] for item in datasets[lang]]\n",
    "        answers = [item[\"clean_answer\"] for item in datasets[lang]]\n",
    "        patch_answers = [item[\"patch_answer\"] for item in datasets[lang]]\n",
    "        # Find the set of prompt lengths and counts for each prompt length\n",
    "        prompt_lengths = list(set([len(model.to_tokens(p)[0]) for p in prompts]))\n",
    "        counts = [len([p for p in prompts if len(model.to_tokens(p)[0]) == l]) for l in prompt_lengths]\n",
    "        # Pick the most frequently occurring length\n",
    "        assert max(counts) >= n_samples, f\"Cannot produce dataset of size {n_samples} with fixed prompt length\"\n",
    "        fixed_len = prompt_lengths[np.argmax(counts)]\n",
    "        \n",
    "        sampled_prompt_idxs = [i for i in prompt_idxs if len(model.to_tokens(prompts[i])[0]) == fixed_len]\n",
    "        data_batches[lang] = {\"prompts\": [prompts[i] for i in sampled_prompt_idxs[:n_samples]], \n",
    "                            \"answers\": [answers[i] for i in sampled_prompt_idxs[:n_samples]], \n",
    "                            \"patch_answers\": [patch_answers[i] for i in sampled_prompt_idxs[:n_samples]]\n",
    "                            }"
   ]
  },
  {
   "cell_type": "code",
   "execution_count": 6,
   "metadata": {},
   "outputs": [],
   "source": [
    "# Store a few important token positions, we will use this later\n",
    "\n",
    "def get_important_token_positions(data_batches):\n",
    "    important_token_positions = {lang: {\"S1\": [], \"IO\": [], \"S2\": [], \"PLACE\": [], \"OBJECT\": [], \"END\": -1} for lang in data_batches.keys()}\n",
    "    for lang in data_batches.keys():\n",
    "        for i, prompt in enumerate(data_batches[lang][\"prompts\"]):\n",
    "\n",
    "            encoded_tokens = model.to_tokens(prompt)[0]\n",
    "            # Decode each token\n",
    "            tokens = [model.to_string(t) for t in encoded_tokens]\n",
    "            answers = data_batches[lang][\"answers\"]\n",
    "            patch_answers = data_batches[lang][\"patch_answers\"]\n",
    "\n",
    "            s_tokens = [f\"{patch_answers[i]}\", f\" {patch_answers[i]}\"]\n",
    "            s_token_positions = [i for i, t in enumerate(tokens) if t in s_tokens]\n",
    "            assert(len(s_token_positions) == 2)\n",
    "\n",
    "            important_token_positions[lang][\"S1\"].append(s_token_positions[0])\n",
    "            important_token_positions[lang][\"S2\"].append(s_token_positions[1])\n",
    "\n",
    "            io_tokens = [f\"{answers[i]}\", f\" {answers[i]}\"]\n",
    "            io_token_positions = [i for i, t in enumerate(tokens) if t in io_tokens]\n",
    "            assert(len(io_token_positions) == 1)\n",
    "            important_token_positions[lang][\"IO\"].append(io_token_positions[0])\n",
    "\n",
    "    return important_token_positions\n",
    "\n",
    "important_token_positions = get_important_token_positions(data_batches)"
   ]
  },
  {
   "cell_type": "code",
   "execution_count": 7,
   "metadata": {},
   "outputs": [
    {
     "name": "stdout",
     "output_type": "stream",
     "text": [
      "Regenerating batches for Spanish due to multiple values for S2\n",
      "Regenerating batches for Spanish due to multiple values for S2\n",
      "Important token positions:\n",
      "{'English': {'END': -1, 'IO': 5, 'OBJECT': 0, 'PLACE': 0, 'S1': 3, 'S2': 11},\n",
      " 'French': {'END': -1, 'IO': 5, 'OBJECT': 0, 'PLACE': 0, 'S1': 3, 'S2': 12},\n",
      " 'Spanish': {'END': -1, 'IO': 5, 'OBJECT': 0, 'PLACE': 0, 'S1': 3, 'S2': 11}}\n"
     ]
    }
   ],
   "source": [
    "# Try to generate batches, if for any language and important token we have more than one unique value, we will regenerate the batches\n",
    "regen = True\n",
    "\n",
    "while regen:\n",
    "    regen = False\n",
    "    generate_batches(model, datasets, languages, n_samples)\n",
    "    important_token_positions = get_important_token_positions(data_batches)\n",
    "    for lang in languages:\n",
    "        for token in important_token_positions[lang].keys():\n",
    "            if token == \"END\":\n",
    "                continue\n",
    "            if len(set(important_token_positions[lang][token])) > 1:\n",
    "                print(f\"Regenerating batches for {lang} due to multiple values for {token}\")\n",
    "                regen = True\n",
    "                break\n",
    "        if regen:\n",
    "            break\n",
    "\n",
    "# Replace the lists in important_token_positions with the unique values\n",
    "for lang in languages:\n",
    "    for token in important_token_positions[lang].keys():\n",
    "        if token == \"END\":\n",
    "            continue\n",
    "        if len(important_token_positions[lang][token]) > 0:\n",
    "            important_token_positions[lang][token] = important_token_positions[lang][token][0]\n",
    "        else:\n",
    "            important_token_positions[lang][token] = 0\n",
    "\n",
    "print(\"Important token positions:\")\n",
    "pp(important_token_positions)\n",
    "    "
   ]
  },
  {
   "cell_type": "code",
   "execution_count": 8,
   "metadata": {},
   "outputs": [
    {
     "name": "stdout",
     "output_type": "stream",
     "text": [
      "Language: English\n",
      "Tokenized prompt: ['<bos>', 'Then', ',', ' Richard', ' and', ' Erica', ' went', ' to', ' the', ' hospital', '.', ' Richard', ' gave', ' a', ' drink', ' to']\n",
      "Tokenized answer: [' Erica']\n"
     ]
    },
    {
     "data": {
      "text/html": [
       "<pre style=\"white-space:pre;overflow-x:auto;line-height:normal;font-family:Menlo,'DejaVu Sans Mono',consolas,'Courier New',monospace\">Performance on answer token:\n",
       "<span style=\"font-weight: bold\">Rank: </span><span style=\"color: #008080; text-decoration-color: #008080; font-weight: bold\">0</span><span style=\"font-weight: bold\">        Logit: </span><span style=\"color: #008080; text-decoration-color: #008080; font-weight: bold\">27.83</span><span style=\"font-weight: bold\"> Prob: </span><span style=\"color: #008080; text-decoration-color: #008080; font-weight: bold\">48.86</span><span style=\"font-weight: bold\">% Token: | Erica|</span>\n",
       "</pre>\n"
      ],
      "text/plain": [
       "Performance on answer token:\n",
       "\u001b[1mRank: \u001b[0m\u001b[1;36m0\u001b[0m\u001b[1m        Logit: \u001b[0m\u001b[1;36m27.83\u001b[0m\u001b[1m Prob: \u001b[0m\u001b[1;36m48.86\u001b[0m\u001b[1m% Token: | Erica|\u001b[0m\n"
      ]
     },
     "metadata": {},
     "output_type": "display_data"
    },
    {
     "name": "stdout",
     "output_type": "stream",
     "text": [
      "Top 0th token. Logit: 27.83 Prob: 48.86% Token: | Erica|\n",
      "Top 1th token. Logit: 27.13 Prob: 24.31% Token: | the|\n",
      "Top 2th token. Logit: 25.85 Prob:  6.74% Token: | his|\n",
      "Top 3th token. Logit: 25.82 Prob:  6.55% Token: | a|\n",
      "Top 4th token. Logit: 24.17 Prob:  1.26% Token: | Dr|\n",
      "Top 5th token. Logit: 24.15 Prob:  1.23% Token: | her|\n",
      "Top 6th token. Logit: 23.89 Prob:  0.95% Token: | an|\n",
      "Top 7th token. Logit: 23.07 Prob:  0.42% Token: | him|\n",
      "Top 8th token. Logit: 23.04 Prob:  0.41% Token: | Eric|\n",
      "Top 9th token. Logit: 22.90 Prob:  0.35% Token: | nurse|\n"
     ]
    },
    {
     "data": {
      "text/html": [
       "<pre style=\"white-space:pre;overflow-x:auto;line-height:normal;font-family:Menlo,'DejaVu Sans Mono',consolas,'Courier New',monospace\"><span style=\"font-weight: bold\">Ranks of the answer tokens:</span> <span style=\"font-weight: bold\">[(</span><span style=\"color: #008000; text-decoration-color: #008000\">' Erica'</span>, <span style=\"color: #008080; text-decoration-color: #008080; font-weight: bold\">0</span><span style=\"font-weight: bold\">)]</span>\n",
       "</pre>\n"
      ],
      "text/plain": [
       "\u001b[1mRanks of the answer tokens:\u001b[0m \u001b[1m[\u001b[0m\u001b[1m(\u001b[0m\u001b[32m' Erica'\u001b[0m, \u001b[1;36m0\u001b[0m\u001b[1m)\u001b[0m\u001b[1m]\u001b[0m\n"
      ]
     },
     "metadata": {},
     "output_type": "display_data"
    },
    {
     "name": "stdout",
     "output_type": "stream",
     "text": [
      "Tokenized prompt: ['<bos>', 'Then', ',', ' Richard', ' and', ' Erica', ' went', ' to', ' the', ' hospital', '.', ' Richard', ' gave', ' a', ' drink', ' to']\n",
      "Tokenized answer: [' Erica']\n"
     ]
    },
    {
     "data": {
      "text/html": [
       "<pre style=\"white-space:pre;overflow-x:auto;line-height:normal;font-family:Menlo,'DejaVu Sans Mono',consolas,'Courier New',monospace\">Performance on answer token:\n",
       "<span style=\"font-weight: bold\">Rank: </span><span style=\"color: #008080; text-decoration-color: #008080; font-weight: bold\">0</span><span style=\"font-weight: bold\">        Logit: </span><span style=\"color: #008080; text-decoration-color: #008080; font-weight: bold\">27.83</span><span style=\"font-weight: bold\"> Prob: </span><span style=\"color: #008080; text-decoration-color: #008080; font-weight: bold\">52.12</span><span style=\"font-weight: bold\">% Token: | Erica|</span>\n",
       "</pre>\n"
      ],
      "text/plain": [
       "Performance on answer token:\n",
       "\u001b[1mRank: \u001b[0m\u001b[1;36m0\u001b[0m\u001b[1m        Logit: \u001b[0m\u001b[1;36m27.83\u001b[0m\u001b[1m Prob: \u001b[0m\u001b[1;36m52.12\u001b[0m\u001b[1m% Token: | Erica|\u001b[0m\n"
      ]
     },
     "metadata": {},
     "output_type": "display_data"
    },
    {
     "name": "stdout",
     "output_type": "stream",
     "text": [
      "Top 0th token. Logit: 27.83 Prob: 52.12% Token: | Erica|\n",
      "Top 1th token. Logit: 26.84 Prob: 19.29% Token: | the|\n",
      "Top 2th token. Logit: 26.21 Prob: 10.31% Token: | Richard|\n",
      "Top 3th token. Logit: 25.57 Prob:  5.42% Token: | his|\n",
      "Top 4th token. Logit: 25.18 Prob:  3.68% Token: | a|\n",
      "Top 5th token. Logit: 24.10 Prob:  1.24% Token: | him|\n",
      "Top 6th token. Logit: 23.93 Prob:  1.05% Token: | her|\n",
      "Top 7th token. Logit: 23.19 Prob:  0.50% Token: | an|\n",
      "Top 8th token. Logit: 22.84 Prob:  0.35% Token: | himself|\n",
      "Top 9th token. Logit: 22.80 Prob:  0.34% Token: | each|\n"
     ]
    },
    {
     "data": {
      "text/html": [
       "<pre style=\"white-space:pre;overflow-x:auto;line-height:normal;font-family:Menlo,'DejaVu Sans Mono',consolas,'Courier New',monospace\"><span style=\"font-weight: bold\">Ranks of the answer tokens:</span> <span style=\"font-weight: bold\">[(</span><span style=\"color: #008000; text-decoration-color: #008000\">' Erica'</span>, <span style=\"color: #008080; text-decoration-color: #008080; font-weight: bold\">0</span><span style=\"font-weight: bold\">)]</span>\n",
       "</pre>\n"
      ],
      "text/plain": [
       "\u001b[1mRanks of the answer tokens:\u001b[0m \u001b[1m[\u001b[0m\u001b[1m(\u001b[0m\u001b[32m' Erica'\u001b[0m, \u001b[1;36m0\u001b[0m\u001b[1m)\u001b[0m\u001b[1m]\u001b[0m\n"
      ]
     },
     "metadata": {},
     "output_type": "display_data"
    },
    {
     "name": "stdout",
     "output_type": "stream",
     "text": [
      "Tokenized prompt: ['<bos>', 'Then', ',', ' Richard', ' and', ' Erica', ' went', ' to', ' the', ' hospital', '.', ' Richard', ' gave', ' a', ' drink', ' to']\n",
      "Tokenized answer: [' Erica']\n"
     ]
    },
    {
     "data": {
      "text/html": [
       "<pre style=\"white-space:pre;overflow-x:auto;line-height:normal;font-family:Menlo,'DejaVu Sans Mono',consolas,'Courier New',monospace\">Performance on answer token:\n",
       "<span style=\"font-weight: bold\">Rank: </span><span style=\"color: #008080; text-decoration-color: #008080; font-weight: bold\">0</span><span style=\"font-weight: bold\">        Logit: </span><span style=\"color: #008080; text-decoration-color: #008080; font-weight: bold\">27.83</span><span style=\"font-weight: bold\"> Prob: </span><span style=\"color: #008080; text-decoration-color: #008080; font-weight: bold\">52.12</span><span style=\"font-weight: bold\">% Token: | Erica|</span>\n",
       "</pre>\n"
      ],
      "text/plain": [
       "Performance on answer token:\n",
       "\u001b[1mRank: \u001b[0m\u001b[1;36m0\u001b[0m\u001b[1m        Logit: \u001b[0m\u001b[1;36m27.83\u001b[0m\u001b[1m Prob: \u001b[0m\u001b[1;36m52.12\u001b[0m\u001b[1m% Token: | Erica|\u001b[0m\n"
      ]
     },
     "metadata": {},
     "output_type": "display_data"
    },
    {
     "name": "stdout",
     "output_type": "stream",
     "text": [
      "Top 0th token. Logit: 27.83 Prob: 52.12% Token: | Erica|\n",
      "Top 1th token. Logit: 26.84 Prob: 19.29% Token: | the|\n",
      "Top 2th token. Logit: 26.21 Prob: 10.31% Token: | Richard|\n",
      "Top 3th token. Logit: 25.57 Prob:  5.42% Token: | his|\n",
      "Top 4th token. Logit: 25.18 Prob:  3.68% Token: | a|\n",
      "Top 5th token. Logit: 24.10 Prob:  1.24% Token: | him|\n",
      "Top 6th token. Logit: 23.93 Prob:  1.05% Token: | her|\n",
      "Top 7th token. Logit: 23.19 Prob:  0.50% Token: | an|\n",
      "Top 8th token. Logit: 22.84 Prob:  0.35% Token: | himself|\n",
      "Top 9th token. Logit: 22.80 Prob:  0.34% Token: | each|\n"
     ]
    },
    {
     "data": {
      "text/html": [
       "<pre style=\"white-space:pre;overflow-x:auto;line-height:normal;font-family:Menlo,'DejaVu Sans Mono',consolas,'Courier New',monospace\"><span style=\"font-weight: bold\">Ranks of the answer tokens:</span> <span style=\"font-weight: bold\">[(</span><span style=\"color: #008000; text-decoration-color: #008000\">' Erica'</span>, <span style=\"color: #008080; text-decoration-color: #008080; font-weight: bold\">0</span><span style=\"font-weight: bold\">)]</span>\n",
       "</pre>\n"
      ],
      "text/plain": [
       "\u001b[1mRanks of the answer tokens:\u001b[0m \u001b[1m[\u001b[0m\u001b[1m(\u001b[0m\u001b[32m' Erica'\u001b[0m, \u001b[1;36m0\u001b[0m\u001b[1m)\u001b[0m\u001b[1m]\u001b[0m\n"
      ]
     },
     "metadata": {},
     "output_type": "display_data"
    },
    {
     "name": "stdout",
     "output_type": "stream",
     "text": [
      "Standard model: top prediction = ' Erica', prob = 48.86%\n",
      "    SAE reconstruction: top prediction = ' Erica', prob = 52.12%\n",
      "    \n",
      "-------------------------------------------------------------------------------------------------------------------------------------------------------------\n",
      "Language: Spanish\n",
      "Tokenized prompt: ['<bos>', 'Luego', ',', ' Richard', ' y', ' Erica', ' fueron', ' al', ' hospital', '.', ' Richard', ' le', ' dio', ' una', ' bebida', ' a']\n",
      "Tokenized answer: [' Erica']\n"
     ]
    },
    {
     "data": {
      "text/html": [
       "<pre style=\"white-space:pre;overflow-x:auto;line-height:normal;font-family:Menlo,'DejaVu Sans Mono',consolas,'Courier New',monospace\">Performance on answer token:\n",
       "<span style=\"font-weight: bold\">Rank: </span><span style=\"color: #008080; text-decoration-color: #008080; font-weight: bold\">0</span><span style=\"font-weight: bold\">        Logit: </span><span style=\"color: #008080; text-decoration-color: #008080; font-weight: bold\">26.50</span><span style=\"font-weight: bold\"> Prob: </span><span style=\"color: #008080; text-decoration-color: #008080; font-weight: bold\">54.37</span><span style=\"font-weight: bold\">% Token: | Erica|</span>\n",
       "</pre>\n"
      ],
      "text/plain": [
       "Performance on answer token:\n",
       "\u001b[1mRank: \u001b[0m\u001b[1;36m0\u001b[0m\u001b[1m        Logit: \u001b[0m\u001b[1;36m26.50\u001b[0m\u001b[1m Prob: \u001b[0m\u001b[1;36m54.37\u001b[0m\u001b[1m% Token: | Erica|\u001b[0m\n"
      ]
     },
     "metadata": {},
     "output_type": "display_data"
    },
    {
     "name": "stdout",
     "output_type": "stream",
     "text": [
      "Top 0th token. Logit: 26.50 Prob: 54.37% Token: | Erica|\n",
      "Top 1th token. Logit: 25.21 Prob: 15.00% Token: | su|\n",
      "Top 2th token. Logit: 24.77 Prob:  9.68% Token: | la|\n",
      "Top 3th token. Logit: 23.19 Prob:  1.99% Token: | un|\n",
      "Top 4th token. Logit: 22.74 Prob:  1.27% Token: | una|\n",
      "Top 5th token. Logit: 22.72 Prob:  1.24% Token: | los|\n",
      "Top 6th token. Logit: 22.63 Prob:  1.13% Token: | Eric|\n",
      "Top 7th token. Logit: 22.51 Prob:  1.00% Token: | Richard|\n",
      "Top 8th token. Logit: 22.21 Prob:  0.75% Token: | sus|\n",
      "Top 9th token. Logit: 21.55 Prob:  0.39% Token: | ella|\n"
     ]
    },
    {
     "data": {
      "text/html": [
       "<pre style=\"white-space:pre;overflow-x:auto;line-height:normal;font-family:Menlo,'DejaVu Sans Mono',consolas,'Courier New',monospace\"><span style=\"font-weight: bold\">Ranks of the answer tokens:</span> <span style=\"font-weight: bold\">[(</span><span style=\"color: #008000; text-decoration-color: #008000\">' Erica'</span>, <span style=\"color: #008080; text-decoration-color: #008080; font-weight: bold\">0</span><span style=\"font-weight: bold\">)]</span>\n",
       "</pre>\n"
      ],
      "text/plain": [
       "\u001b[1mRanks of the answer tokens:\u001b[0m \u001b[1m[\u001b[0m\u001b[1m(\u001b[0m\u001b[32m' Erica'\u001b[0m, \u001b[1;36m0\u001b[0m\u001b[1m)\u001b[0m\u001b[1m]\u001b[0m\n"
      ]
     },
     "metadata": {},
     "output_type": "display_data"
    },
    {
     "name": "stdout",
     "output_type": "stream",
     "text": [
      "Tokenized prompt: ['<bos>', 'Luego', ',', ' Richard', ' y', ' Erica', ' fueron', ' al', ' hospital', '.', ' Richard', ' le', ' dio', ' una', ' bebida', ' a']\n",
      "Tokenized answer: [' Erica']\n"
     ]
    },
    {
     "data": {
      "text/html": [
       "<pre style=\"white-space:pre;overflow-x:auto;line-height:normal;font-family:Menlo,'DejaVu Sans Mono',consolas,'Courier New',monospace\">Performance on answer token:\n",
       "<span style=\"font-weight: bold\">Rank: </span><span style=\"color: #008080; text-decoration-color: #008080; font-weight: bold\">1</span><span style=\"font-weight: bold\">        Logit: </span><span style=\"color: #008080; text-decoration-color: #008080; font-weight: bold\">23.82</span><span style=\"font-weight: bold\"> Prob: </span><span style=\"color: #008080; text-decoration-color: #008080; font-weight: bold\">19.08</span><span style=\"font-weight: bold\">% Token: | Erica|</span>\n",
       "</pre>\n"
      ],
      "text/plain": [
       "Performance on answer token:\n",
       "\u001b[1mRank: \u001b[0m\u001b[1;36m1\u001b[0m\u001b[1m        Logit: \u001b[0m\u001b[1;36m23.82\u001b[0m\u001b[1m Prob: \u001b[0m\u001b[1;36m19.08\u001b[0m\u001b[1m% Token: | Erica|\u001b[0m\n"
      ]
     },
     "metadata": {},
     "output_type": "display_data"
    },
    {
     "name": "stdout",
     "output_type": "stream",
     "text": [
      "Top 0th token. Logit: 24.74 Prob: 47.67% Token: | Richard|\n",
      "Top 1th token. Logit: 23.82 Prob: 19.08% Token: | Erica|\n",
      "Top 2th token. Logit: 23.24 Prob: 10.63% Token: | la|\n",
      "Top 3th token. Logit: 22.58 Prob:  5.53% Token: | su|\n",
      "Top 4th token. Logit: 21.10 Prob:  1.25% Token: | los|\n",
      "Top 5th token. Logit: 20.95 Prob:  1.09% Token: | las|\n",
      "Top 6th token. Logit: 20.32 Prob:  0.57% Token: | un|\n",
      "Top 7th token. Logit: 20.18 Prob:  0.50% Token: | una|\n",
      "Top 8th token. Logit: 19.74 Prob:  0.32% Token: | Becker|\n",
      "Top 9th token. Logit: 19.36 Prob:  0.22% Token: |́|\n"
     ]
    },
    {
     "data": {
      "text/html": [
       "<pre style=\"white-space:pre;overflow-x:auto;line-height:normal;font-family:Menlo,'DejaVu Sans Mono',consolas,'Courier New',monospace\"><span style=\"font-weight: bold\">Ranks of the answer tokens:</span> <span style=\"font-weight: bold\">[(</span><span style=\"color: #008000; text-decoration-color: #008000\">' Erica'</span>, <span style=\"color: #008080; text-decoration-color: #008080; font-weight: bold\">1</span><span style=\"font-weight: bold\">)]</span>\n",
       "</pre>\n"
      ],
      "text/plain": [
       "\u001b[1mRanks of the answer tokens:\u001b[0m \u001b[1m[\u001b[0m\u001b[1m(\u001b[0m\u001b[32m' Erica'\u001b[0m, \u001b[1;36m1\u001b[0m\u001b[1m)\u001b[0m\u001b[1m]\u001b[0m\n"
      ]
     },
     "metadata": {},
     "output_type": "display_data"
    },
    {
     "name": "stdout",
     "output_type": "stream",
     "text": [
      "Tokenized prompt: ['<bos>', 'Luego', ',', ' Richard', ' y', ' Erica', ' fueron', ' al', ' hospital', '.', ' Richard', ' le', ' dio', ' una', ' bebida', ' a']\n",
      "Tokenized answer: [' Erica']\n"
     ]
    },
    {
     "data": {
      "text/html": [
       "<pre style=\"white-space:pre;overflow-x:auto;line-height:normal;font-family:Menlo,'DejaVu Sans Mono',consolas,'Courier New',monospace\">Performance on answer token:\n",
       "<span style=\"font-weight: bold\">Rank: </span><span style=\"color: #008080; text-decoration-color: #008080; font-weight: bold\">1</span><span style=\"font-weight: bold\">        Logit: </span><span style=\"color: #008080; text-decoration-color: #008080; font-weight: bold\">23.82</span><span style=\"font-weight: bold\"> Prob: </span><span style=\"color: #008080; text-decoration-color: #008080; font-weight: bold\">19.08</span><span style=\"font-weight: bold\">% Token: | Erica|</span>\n",
       "</pre>\n"
      ],
      "text/plain": [
       "Performance on answer token:\n",
       "\u001b[1mRank: \u001b[0m\u001b[1;36m1\u001b[0m\u001b[1m        Logit: \u001b[0m\u001b[1;36m23.82\u001b[0m\u001b[1m Prob: \u001b[0m\u001b[1;36m19.08\u001b[0m\u001b[1m% Token: | Erica|\u001b[0m\n"
      ]
     },
     "metadata": {},
     "output_type": "display_data"
    },
    {
     "name": "stdout",
     "output_type": "stream",
     "text": [
      "Top 0th token. Logit: 24.74 Prob: 47.67% Token: | Richard|\n",
      "Top 1th token. Logit: 23.82 Prob: 19.08% Token: | Erica|\n",
      "Top 2th token. Logit: 23.24 Prob: 10.63% Token: | la|\n",
      "Top 3th token. Logit: 22.58 Prob:  5.53% Token: | su|\n",
      "Top 4th token. Logit: 21.10 Prob:  1.25% Token: | los|\n",
      "Top 5th token. Logit: 20.95 Prob:  1.09% Token: | las|\n",
      "Top 6th token. Logit: 20.32 Prob:  0.57% Token: | un|\n",
      "Top 7th token. Logit: 20.18 Prob:  0.50% Token: | una|\n",
      "Top 8th token. Logit: 19.74 Prob:  0.32% Token: | Becker|\n",
      "Top 9th token. Logit: 19.36 Prob:  0.22% Token: |́|\n"
     ]
    },
    {
     "data": {
      "text/html": [
       "<pre style=\"white-space:pre;overflow-x:auto;line-height:normal;font-family:Menlo,'DejaVu Sans Mono',consolas,'Courier New',monospace\"><span style=\"font-weight: bold\">Ranks of the answer tokens:</span> <span style=\"font-weight: bold\">[(</span><span style=\"color: #008000; text-decoration-color: #008000\">' Erica'</span>, <span style=\"color: #008080; text-decoration-color: #008080; font-weight: bold\">1</span><span style=\"font-weight: bold\">)]</span>\n",
       "</pre>\n"
      ],
      "text/plain": [
       "\u001b[1mRanks of the answer tokens:\u001b[0m \u001b[1m[\u001b[0m\u001b[1m(\u001b[0m\u001b[32m' Erica'\u001b[0m, \u001b[1;36m1\u001b[0m\u001b[1m)\u001b[0m\u001b[1m]\u001b[0m\n"
      ]
     },
     "metadata": {},
     "output_type": "display_data"
    },
    {
     "name": "stdout",
     "output_type": "stream",
     "text": [
      "Standard model: top prediction = ' Erica', prob = 54.37%\n",
      "    SAE reconstruction: top prediction = ' Richard', prob = 47.67%\n",
      "    \n",
      "-------------------------------------------------------------------------------------------------------------------------------------------------------------\n",
      "Language: French\n",
      "Tokenized prompt: ['<bos>', 'Ensuite', ',', ' Richard', ' et', ' Erica', ' sont', ' all', 'és', ' à', ' l', \"'\", 'hôpital', '.', ' Richard', ' a', ' donné', ' une', ' boisson', ' à']\n",
      "Tokenized answer: [' Erica']\n"
     ]
    },
    {
     "data": {
      "text/html": [
       "<pre style=\"white-space:pre;overflow-x:auto;line-height:normal;font-family:Menlo,'DejaVu Sans Mono',consolas,'Courier New',monospace\">Performance on answer token:\n",
       "<span style=\"font-weight: bold\">Rank: </span><span style=\"color: #008080; text-decoration-color: #008080; font-weight: bold\">0</span><span style=\"font-weight: bold\">        Logit: </span><span style=\"color: #008080; text-decoration-color: #008080; font-weight: bold\">27.41</span><span style=\"font-weight: bold\"> Prob: </span><span style=\"color: #008080; text-decoration-color: #008080; font-weight: bold\">72.81</span><span style=\"font-weight: bold\">% Token: | Erica|</span>\n",
       "</pre>\n"
      ],
      "text/plain": [
       "Performance on answer token:\n",
       "\u001b[1mRank: \u001b[0m\u001b[1;36m0\u001b[0m\u001b[1m        Logit: \u001b[0m\u001b[1;36m27.41\u001b[0m\u001b[1m Prob: \u001b[0m\u001b[1;36m72.81\u001b[0m\u001b[1m% Token: | Erica|\u001b[0m\n"
      ]
     },
     "metadata": {},
     "output_type": "display_data"
    },
    {
     "name": "stdout",
     "output_type": "stream",
     "text": [
      "Top 0th token. Logit: 27.41 Prob: 72.81% Token: | Erica|\n",
      "Top 1th token. Logit: 25.05 Prob:  6.88% Token: | son|\n",
      "Top 2th token. Logit: 24.32 Prob:  3.31% Token: | l|\n",
      "Top 3th token. Logit: 24.24 Prob:  3.06% Token: | la|\n",
      "Top 4th token. Logit: 24.04 Prob:  2.50% Token: | sa|\n",
      "Top 5th token. Logit: 23.75 Prob:  1.88% Token: | un|\n",
      "Top 6th token. Logit: 23.43 Prob:  1.36% Token: |Erica|\n",
      "Top 7th token. Logit: 23.04 Prob:  0.92% Token: | une|\n",
      "Top 8th token. Logit: 22.59 Prob:  0.59% Token: | Eric|\n",
      "Top 9th token. Logit: 21.89 Prob:  0.29% Token: | É|\n"
     ]
    },
    {
     "data": {
      "text/html": [
       "<pre style=\"white-space:pre;overflow-x:auto;line-height:normal;font-family:Menlo,'DejaVu Sans Mono',consolas,'Courier New',monospace\"><span style=\"font-weight: bold\">Ranks of the answer tokens:</span> <span style=\"font-weight: bold\">[(</span><span style=\"color: #008000; text-decoration-color: #008000\">' Erica'</span>, <span style=\"color: #008080; text-decoration-color: #008080; font-weight: bold\">0</span><span style=\"font-weight: bold\">)]</span>\n",
       "</pre>\n"
      ],
      "text/plain": [
       "\u001b[1mRanks of the answer tokens:\u001b[0m \u001b[1m[\u001b[0m\u001b[1m(\u001b[0m\u001b[32m' Erica'\u001b[0m, \u001b[1;36m0\u001b[0m\u001b[1m)\u001b[0m\u001b[1m]\u001b[0m\n"
      ]
     },
     "metadata": {},
     "output_type": "display_data"
    },
    {
     "name": "stdout",
     "output_type": "stream",
     "text": [
      "Tokenized prompt: ['<bos>', 'Ensuite', ',', ' Richard', ' et', ' Erica', ' sont', ' all', 'és', ' à', ' l', \"'\", 'hôpital', '.', ' Richard', ' a', ' donné', ' une', ' boisson', ' à']\n",
      "Tokenized answer: [' Erica']\n"
     ]
    },
    {
     "data": {
      "text/html": [
       "<pre style=\"white-space:pre;overflow-x:auto;line-height:normal;font-family:Menlo,'DejaVu Sans Mono',consolas,'Courier New',monospace\">Performance on answer token:\n",
       "<span style=\"font-weight: bold\">Rank: </span><span style=\"color: #008080; text-decoration-color: #008080; font-weight: bold\">0</span><span style=\"font-weight: bold\">        Logit: </span><span style=\"color: #008080; text-decoration-color: #008080; font-weight: bold\">26.21</span><span style=\"font-weight: bold\"> Prob: </span><span style=\"color: #008080; text-decoration-color: #008080; font-weight: bold\">72.70</span><span style=\"font-weight: bold\">% Token: | Erica|</span>\n",
       "</pre>\n"
      ],
      "text/plain": [
       "Performance on answer token:\n",
       "\u001b[1mRank: \u001b[0m\u001b[1;36m0\u001b[0m\u001b[1m        Logit: \u001b[0m\u001b[1;36m26.21\u001b[0m\u001b[1m Prob: \u001b[0m\u001b[1;36m72.70\u001b[0m\u001b[1m% Token: | Erica|\u001b[0m\n"
      ]
     },
     "metadata": {},
     "output_type": "display_data"
    },
    {
     "name": "stdout",
     "output_type": "stream",
     "text": [
      "Top 0th token. Logit: 26.21 Prob: 72.70% Token: | Erica|\n",
      "Top 1th token. Logit: 23.67 Prob:  5.76% Token: | Richard|\n",
      "Top 2th token. Logit: 23.56 Prob:  5.12% Token: | l|\n",
      "Top 3th token. Logit: 23.31 Prob:  4.01% Token: | la|\n",
      "Top 4th token. Logit: 22.63 Prob:  2.02% Token: | son|\n",
      "Top 5th token. Logit: 22.46 Prob:  1.71% Token: | sa|\n",
      "Top 6th token. Logit: 22.26 Prob:  1.40% Token: | un|\n",
      "Top 7th token. Logit: 21.59 Prob:  0.71% Token: | une|\n",
      "Top 8th token. Logit: 21.25 Prob:  0.51% Token: |Erica|\n",
      "Top 9th token. Logit: 21.02 Prob:  0.40% Token: | ses|\n"
     ]
    },
    {
     "data": {
      "text/html": [
       "<pre style=\"white-space:pre;overflow-x:auto;line-height:normal;font-family:Menlo,'DejaVu Sans Mono',consolas,'Courier New',monospace\"><span style=\"font-weight: bold\">Ranks of the answer tokens:</span> <span style=\"font-weight: bold\">[(</span><span style=\"color: #008000; text-decoration-color: #008000\">' Erica'</span>, <span style=\"color: #008080; text-decoration-color: #008080; font-weight: bold\">0</span><span style=\"font-weight: bold\">)]</span>\n",
       "</pre>\n"
      ],
      "text/plain": [
       "\u001b[1mRanks of the answer tokens:\u001b[0m \u001b[1m[\u001b[0m\u001b[1m(\u001b[0m\u001b[32m' Erica'\u001b[0m, \u001b[1;36m0\u001b[0m\u001b[1m)\u001b[0m\u001b[1m]\u001b[0m\n"
      ]
     },
     "metadata": {},
     "output_type": "display_data"
    },
    {
     "name": "stdout",
     "output_type": "stream",
     "text": [
      "Tokenized prompt: ['<bos>', 'Ensuite', ',', ' Richard', ' et', ' Erica', ' sont', ' all', 'és', ' à', ' l', \"'\", 'hôpital', '.', ' Richard', ' a', ' donné', ' une', ' boisson', ' à']\n",
      "Tokenized answer: [' Erica']\n"
     ]
    },
    {
     "data": {
      "text/html": [
       "<pre style=\"white-space:pre;overflow-x:auto;line-height:normal;font-family:Menlo,'DejaVu Sans Mono',consolas,'Courier New',monospace\">Performance on answer token:\n",
       "<span style=\"font-weight: bold\">Rank: </span><span style=\"color: #008080; text-decoration-color: #008080; font-weight: bold\">0</span><span style=\"font-weight: bold\">        Logit: </span><span style=\"color: #008080; text-decoration-color: #008080; font-weight: bold\">26.21</span><span style=\"font-weight: bold\"> Prob: </span><span style=\"color: #008080; text-decoration-color: #008080; font-weight: bold\">72.70</span><span style=\"font-weight: bold\">% Token: | Erica|</span>\n",
       "</pre>\n"
      ],
      "text/plain": [
       "Performance on answer token:\n",
       "\u001b[1mRank: \u001b[0m\u001b[1;36m0\u001b[0m\u001b[1m        Logit: \u001b[0m\u001b[1;36m26.21\u001b[0m\u001b[1m Prob: \u001b[0m\u001b[1;36m72.70\u001b[0m\u001b[1m% Token: | Erica|\u001b[0m\n"
      ]
     },
     "metadata": {},
     "output_type": "display_data"
    },
    {
     "name": "stdout",
     "output_type": "stream",
     "text": [
      "Top 0th token. Logit: 26.21 Prob: 72.70% Token: | Erica|\n",
      "Top 1th token. Logit: 23.67 Prob:  5.76% Token: | Richard|\n",
      "Top 2th token. Logit: 23.56 Prob:  5.12% Token: | l|\n",
      "Top 3th token. Logit: 23.31 Prob:  4.01% Token: | la|\n",
      "Top 4th token. Logit: 22.63 Prob:  2.02% Token: | son|\n",
      "Top 5th token. Logit: 22.46 Prob:  1.71% Token: | sa|\n",
      "Top 6th token. Logit: 22.26 Prob:  1.40% Token: | un|\n",
      "Top 7th token. Logit: 21.59 Prob:  0.71% Token: | une|\n",
      "Top 8th token. Logit: 21.25 Prob:  0.51% Token: |Erica|\n",
      "Top 9th token. Logit: 21.02 Prob:  0.40% Token: | ses|\n"
     ]
    },
    {
     "data": {
      "text/html": [
       "<pre style=\"white-space:pre;overflow-x:auto;line-height:normal;font-family:Menlo,'DejaVu Sans Mono',consolas,'Courier New',monospace\"><span style=\"font-weight: bold\">Ranks of the answer tokens:</span> <span style=\"font-weight: bold\">[(</span><span style=\"color: #008000; text-decoration-color: #008000\">' Erica'</span>, <span style=\"color: #008080; text-decoration-color: #008080; font-weight: bold\">0</span><span style=\"font-weight: bold\">)]</span>\n",
       "</pre>\n"
      ],
      "text/plain": [
       "\u001b[1mRanks of the answer tokens:\u001b[0m \u001b[1m[\u001b[0m\u001b[1m(\u001b[0m\u001b[32m' Erica'\u001b[0m, \u001b[1;36m0\u001b[0m\u001b[1m)\u001b[0m\u001b[1m]\u001b[0m\n"
      ]
     },
     "metadata": {},
     "output_type": "display_data"
    },
    {
     "name": "stdout",
     "output_type": "stream",
     "text": [
      "Standard model: top prediction = ' Erica', prob = 72.81%\n",
      "    SAE reconstruction: top prediction = ' Erica', prob = 72.70%\n",
      "    \n",
      "-------------------------------------------------------------------------------------------------------------------------------------------------------------\n"
     ]
    }
   ],
   "source": [
    "# Test performance of SAE on the same task\n",
    "\n",
    "from transformer_lens.utils import test_prompt\n",
    "\n",
    "layer = 10\n",
    "\n",
    "sae, cfg_dict, sparsity = SAE.from_pretrained(\n",
    "    release=\"gemma-scope-2b-pt-res-canonical\",\n",
    "    sae_id=f\"layer_{layer}/width_16k/canonical\",\n",
    "    device=str(device),\n",
    ")\n",
    "\n",
    "for lang, dataset in datasets.items():\n",
    "    print(f\"Language: {lang}\")\n",
    "\n",
    "    prompt = dataset[0][\"clean_prefix\"]\n",
    "    answer = dataset[0][\"clean_answer\"]\n",
    "\n",
    "    # First see how the model does without SAEs\n",
    "    test_prompt(prompt, answer, model)\n",
    "\n",
    "    # Test our prompt, to see what the model says\n",
    "    with model.saes(saes=[sae]):\n",
    "        test_prompt(prompt, answer, model)\n",
    "\n",
    "    # Same thing, done in a different way\n",
    "    model.add_sae(sae)\n",
    "    test_prompt(prompt, answer, model)\n",
    "    model.reset_saes()  # Remember to always do this!\n",
    "\n",
    "    # Using `run_with_saes` method in place of standard forward pass\n",
    "    logits = model(prompt, return_type=\"logits\")\n",
    "    logits_sae = model.run_with_saes(prompt, saes=[sae], return_type=\"logits\")\n",
    "    answer_token_id = model.to_single_token(answer)\n",
    "\n",
    "    # Getting model's prediction\n",
    "    top_prob, token_id_prediction = logits[0, -1].softmax(-1).max(-1)\n",
    "    top_prob_sae, token_id_prediction_sae = logits_sae[0, -1].softmax(-1).max(-1)\n",
    "\n",
    "    print(f\"\"\"Standard model: top prediction = {model.to_string(token_id_prediction)!r}, prob = {top_prob.item():.2%}\n",
    "    SAE reconstruction: top prediction = {model.to_string(token_id_prediction_sae)!r}, prob = {top_prob_sae.item():.2%}\n",
    "    \"\"\")\n",
    "    print(\"-------------------------------------------------------------------------------------------------------------------------------------------------------------\")"
   ]
  },
  {
   "cell_type": "code",
   "execution_count": 9,
   "metadata": {},
   "outputs": [],
   "source": [
    "from IPython.display import IFrame, display\n",
    "from sae_lens.toolkit.pretrained_saes_directory import get_pretrained_saes_directory\n",
    "\n",
    "def display_dashboard(\n",
    "    sae_release=\"gemma-scope-2b-pt-res-canonical\",\n",
    "    sae_id=\"layer_10/width_16k/canonical\",\n",
    "    latent_idx=0,\n",
    "    width=800,\n",
    "    height=600,\n",
    "):\n",
    "    release = get_pretrained_saes_directory()[sae_release]\n",
    "    neuronpedia_id = release.neuronpedia_id[sae_id]\n",
    "\n",
    "    url = f\"https://neuronpedia.org/{neuronpedia_id}/{latent_idx}?embed=true&embedexplanation=true&embedplots=true&embedtest=true&height=300\"\n",
    "\n",
    "    print(url)\n",
    "    display(IFrame(url, width=width, height=height))"
   ]
  },
  {
   "cell_type": "markdown",
   "metadata": {},
   "source": [
    "### Attribution Patching with Integrated Gradients"
   ]
  },
  {
   "cell_type": "code",
   "execution_count": 10,
   "metadata": {},
   "outputs": [],
   "source": [
    "from utils import *\n",
    "from torch.nn import functional as F\n",
    "\n",
    "def get_zero_atp_ig_effect(model, saes, sae_idx, toks, labels, ig_steps):\n",
    "    with torch.no_grad():\n",
    "        _, saes = run_sae_hook_fn(model, saes, toks, cache_sae_activations=True)\n",
    "        clean_acts = [s.feature_acts for s in saes]\n",
    "        cleanup_cuda()   \n",
    "    sae_clean_acts = clean_acts[sae_idx]\n",
    "    sae_corr_acts = torch.zeros_like(sae_clean_acts)\n",
    "\n",
    "    ratios = [i/ig_steps for i in range(ig_steps)]\n",
    "    effects = []\n",
    "    for ratio in tqdm(ratios): \n",
    "        # get interpolated activations and logits between clean and zero \n",
    "        interpolation = (sae_clean_acts * (1-ratio) + sae_corr_acts * (ratio)).requires_grad_(True)\n",
    "        interpolation.retain_grad()\n",
    "        interpolated_out, saes = run_sae_hook_fn(model, saes, toks, fake_activations=(saes[sae_idx].cfg.hook_layer,interpolation))\n",
    "\n",
    "        # metric is prob of correct tok\n",
    "        answer_logits = interpolated_out[..., -1, :]\n",
    "        answer_logprobs = F.softmax(answer_logits, dim=-1)\n",
    "        clean_logprobs = answer_logprobs[..., torch.arange(answer_logprobs.shape[-2]), labels]\n",
    "        metric = torch.sum(clean_logprobs)\n",
    "        metric.backward()\n",
    "\n",
    "        # attr formula\n",
    "        counterfactual_delta = sae_clean_acts - sae_corr_acts\n",
    "        effect = (interpolation.grad * counterfactual_delta).mean(dim=0)\n",
    "        effects.append(effect)\n",
    "        cleanup_cuda()\n",
    "\n",
    "    effects = torch.stack(effects)\n",
    "    clear_memory(saes, model)\n",
    "    final_effect = effects.mean(dim=0)\n",
    "    return model, saes, final_effect"
   ]
  },
  {
   "cell_type": "code",
   "execution_count": 11,
   "metadata": {},
   "outputs": [
    {
     "name": "stderr",
     "output_type": "stream",
     "text": [
      "100%|██████████| 10/10 [00:09<00:00,  1.04it/s]\n"
     ]
    },
    {
     "name": "stdout",
     "output_type": "stream",
     "text": [
      "AtP-IG done for English: shape is (16, 16384)\n"
     ]
    },
    {
     "name": "stderr",
     "output_type": "stream",
     "text": [
      "100%|██████████| 10/10 [00:09<00:00,  1.01it/s]\n"
     ]
    },
    {
     "name": "stdout",
     "output_type": "stream",
     "text": [
      "AtP-IG done for Spanish: shape is (17, 16384)\n"
     ]
    },
    {
     "name": "stderr",
     "output_type": "stream",
     "text": [
      "100%|██████████| 10/10 [00:10<00:00,  1.04s/it]"
     ]
    },
    {
     "name": "stdout",
     "output_type": "stream",
     "text": [
      "AtP-IG done for French: shape is (18, 16384)\n"
     ]
    },
    {
     "name": "stderr",
     "output_type": "stream",
     "text": [
      "\n"
     ]
    }
   ],
   "source": [
    "# Run attribution patching\n",
    "\n",
    "def run_attribution_patching(data_batches, model, sae):\n",
    "    causal_effects = {}\n",
    "    cleanup_cuda()\n",
    "\n",
    "    for lang in data_batches.keys():\n",
    "        saes = [sae]\n",
    "        sae_idx = 0\n",
    "        ig_steps = 10\n",
    "        toks = model.to_tokens(data_batches[lang][\"prompts\"])\n",
    "        answers = data_batches[lang][\"answers\"]\n",
    "        labels = torch.Tensor([model.to_single_token(answer) for answer in answers]).int().to(device)\n",
    "\n",
    "        model, saes, effect = get_zero_atp_ig_effect(model, saes, sae_idx, toks, labels, ig_steps)\n",
    "        causal_effects[lang] = effect.cpu().numpy()\n",
    "        print(f\"AtP-IG done for {lang}: shape is {causal_effects[lang].shape}\")\n",
    "    return causal_effects\n",
    "\n",
    "causal_effects = run_attribution_patching(data_batches, model, sae)"
   ]
  },
  {
   "cell_type": "code",
   "execution_count": 12,
   "metadata": {},
   "outputs": [
    {
     "name": "stdout",
     "output_type": "stream",
     "text": [
      "Number of latents for English with absolute AtP-IG score > 0.005: 75\n",
      "Number of latents for Spanish with absolute AtP-IG score > 0.005: 103\n",
      "Number of latents for French with absolute AtP-IG score > 0.005: 89\n"
     ]
    },
    {
     "data": {
      "image/png": "[encoded data removed]",
      "text/plain": [
       "<Figure size 2000x500 with 3 Axes>"
      ]
     },
     "metadata": {},
     "output_type": "display_data"
    }
   ],
   "source": [
    "threshold = 5e-3\n",
    "\n",
    "def threshold_causal_effects(causal_effects, threshold):\n",
    "    relevant_latents = {}\n",
    "    for lang in languages:\n",
    "        # Get list of (x, y) indices of latents in the (17, 16384) tensor that are above the threshold\n",
    "        relevant_latents[lang] = np.argwhere(np.abs(causal_effects[lang]) > threshold)\n",
    "        # Sort by attribution score\n",
    "        relevant_latents[lang] = sorted(relevant_latents[lang], key=lambda x: causal_effects[lang][x[0], x[1]], reverse=True)\n",
    "        # Get 3D tensor of latents and attribution scores\n",
    "        relevant_latents[lang] = np.array([(x, y, causal_effects[lang][x, y]) for x, y in relevant_latents[lang]])\n",
    "    return relevant_latents\n",
    "\n",
    "# Plot causal effects for every language\n",
    "relevant_latents = threshold_causal_effects(causal_effects, threshold)\n",
    "for lang in languages:\n",
    "    print(f\"Number of latents for {lang} with absolute AtP-IG score > {threshold}: {len(relevant_latents[lang])}\")\n",
    "\n",
    "fig, axs = plt.subplots(1, len(languages), figsize=(20, 5))\n",
    "for i, lang in enumerate(languages):\n",
    "    axs[i].plot(relevant_latents[lang][:, -1])\n",
    "    axs[i].set_title(f\"{lang} Causal Effects\")\n",
    "    axs[i].set_xlabel(\"Latent Index\")\n",
    "    axs[i].set_ylabel(\"Causal Effect\")\n"
   ]
  },
  {
   "cell_type": "code",
   "execution_count": 13,
   "metadata": {},
   "outputs": [
    {
     "name": "stdout",
     "output_type": "stream",
     "text": [
      "Selected top 7 positive latents and 4 negative latents for English\n",
      "Selected top 14 positive latents and 5 negative latents for Spanish\n",
      "Selected top 10 positive latents and 4 negative latents for French\n"
     ]
    }
   ],
   "source": [
    "# Get the top  latents for each language, determined by the \"knee\" in the plot where there is a significant change in the causal effect\n",
    "# Do this separately for positive and negative causal effect\n",
    "from kneed import KneeLocator\n",
    "\n",
    "def get_knee_points(relevant_latents, lang):\n",
    "\n",
    "    top_latents = {}\n",
    "    for lang in languages:\n",
    "        \n",
    "        # Separate positive and negative effects\n",
    "        pos_latents = relevant_latents[lang][relevant_latents[lang][:, -1] > 0]\n",
    "        neg_latents = relevant_latents[lang][relevant_latents[lang][:, -1] < 0]\n",
    "\n",
    "        # Sort negative latents by decreasing absolute value of causal effect\n",
    "        neg_latents = neg_latents[np.argsort(np.abs(neg_latents[:, -1]))[::-1]]\n",
    "\n",
    "        # Find the \"knee\" point for positive and negative separately\n",
    "        if len(pos_latents) > 1:\n",
    "            knee_pos = KneeLocator(range(len(pos_latents)), pos_latents[:, -1], curve='convex', direction='decreasing')\n",
    "            k_pos = knee_pos.knee if knee_pos.knee is not None else len(pos_latents)\n",
    "        else:\n",
    "            k_pos = len(pos_latents)\n",
    "\n",
    "        if len(neg_latents) > 1:\n",
    "            abs_neg_latents = np.abs(neg_latents)\n",
    "            knee_neg = KneeLocator(range(len(abs_neg_latents)), abs_neg_latents[:, -1], curve='convex', direction='decreasing')\n",
    "            k_neg = knee_neg.knee if knee_neg.knee is not None else len(abs_neg_latents)\n",
    "        else:\n",
    "            k_neg = len(abs_neg_latents)\n",
    "\n",
    "        # Store top latents\n",
    "        top_latents[lang] = {\n",
    "            \"positive\": pos_latents[:k_pos],\n",
    "            \"negative\": neg_latents[:k_neg]\n",
    "        }\n",
    "\n",
    "    return top_latents\n",
    "\n",
    "top_latents = get_knee_points(relevant_latents, languages)\n",
    "for lang in languages:\n",
    "    len_pos = len(top_latents[lang][\"positive\"])\n",
    "    len_neg = len(top_latents[lang][\"negative\"])\n",
    "    print(f\"Selected top {len_pos} positive latents and {len_neg} negative latents for {lang}\")"
   ]
  },
  {
   "cell_type": "code",
   "execution_count": 14,
   "metadata": {},
   "outputs": [
    {
     "name": "stdout",
     "output_type": "stream",
     "text": [
      "Top positive latents for English: [(5, 2592), (11, 12968), (5, 14660), (9, 3986), (11, 6876), (3, 388), (15, 9785)]\n",
      "Top negative latents for English: [(5, 388), (11, 3986), (5, 3986), (9, 1205)]\n",
      "-------------------------------------------------------------------------------------------------------------------------------------------------------------\n",
      "Top positive latents for Spanish: [(16, 8383), (11, 12968), (5, 14660), (5, 2592), (11, 6876), (4, 3986), (3, 3986), (3, 388), (11, 13400), (7, 14305), (9, 3986), (1, 3986), (16, 1584), (6, 14305)]\n",
      "Top negative latents for Spanish: [(5, 388), (11, 3986), (5, 3986), (5, 6319), (1, 4392)]\n",
      "-------------------------------------------------------------------------------------------------------------------------------------------------------------\n",
      "Top positive latents for French: [(17, 8383), (5, 14660), (12, 12968), (5, 2592), (14, 1503), (12, 6876), (3, 3986), (12, 13400), (4, 3986), (1, 3986)]\n",
      "Top negative latents for French: [(5, 388), (12, 3986), (5, 3986), (1, 4392)]\n",
      "-------------------------------------------------------------------------------------------------------------------------------------------------------------\n"
     ]
    }
   ],
   "source": [
    "# Print out the top latents for each language\n",
    "\n",
    "def get_top_latent_ids(top_latents, lang):\n",
    "    pos_tuple_list = [(int(x), int(y)) for x, y, _ in top_latents[lang][\"positive\"]]\n",
    "    neg_tuple_list = [(int(x), int(y)) for x, y, _ in top_latents[lang][\"negative\"]]\n",
    "    return pos_tuple_list, neg_tuple_list\n",
    "\n",
    "for lang in languages:\n",
    "    print(f\"Top positive latents for {lang}: {get_top_latent_ids(top_latents, lang)[0]}\")\n",
    "    print(f\"Top negative latents for {lang}: {get_top_latent_ids(top_latents, lang)[1]}\")\n",
    "    print(\"-------------------------------------------------------------------------------------------------------------------------------------------------------------\")"
   ]
  },
  {
   "cell_type": "markdown",
   "metadata": {},
   "source": [
    "# Searching for reused latents"
   ]
  },
  {
   "cell_type": "code",
   "execution_count": 15,
   "metadata": {},
   "outputs": [],
   "source": [
    "def compute_latent_overlaps(top_latents):\n",
    "\n",
    "    results = {}\n",
    "    languages = list(top_latents.keys())\n",
    "    # Pairwise\n",
    "    for i in range(len(languages)):\n",
    "        for j in range(i + 1, len(languages)):\n",
    "            lang_A = languages[i]\n",
    "            lang_B = languages[j]\n",
    "            \n",
    "            pos_A, neg_A = get_top_latent_ids(top_latents, lang_A)\n",
    "            pos_B, neg_B = get_top_latent_ids(top_latents, lang_B)\n",
    "            \n",
    "            overlap_pos = set(pos_A) & set(pos_B)\n",
    "            overlap_neg = set(neg_A) & set(neg_B)\n",
    "            \n",
    "            results[(lang_A, lang_B)] = {\n",
    "                \"positive\": overlap_pos,\n",
    "                \"negative\": overlap_neg\n",
    "            }\n",
    "    \n",
    "    # Intersection across all languages\n",
    "    pos_sets = []\n",
    "    neg_sets = []\n",
    "    for lang in languages:\n",
    "        pos_s, neg_s = get_top_latent_ids(top_latents, lang)\n",
    "        pos_sets.append(set(pos_s))\n",
    "        neg_sets.append(set(neg_s))\n",
    "    \n",
    "    # Latents common to all languages (intersection of sets)\n",
    "    all_pos = set.intersection(*pos_sets) if len(pos_sets) > 1 else pos_sets[0]\n",
    "    all_neg = set.intersection(*neg_sets) if len(neg_sets) > 1 else neg_sets[0]\n",
    "\n",
    "    all_common = {\n",
    "        \"positive\": all_pos,\n",
    "        \"negative\": all_neg\n",
    "    }\n",
    "    \n",
    "    return results, all_common\n",
    "\n",
    "# Compute the Intersection over Union (IoU) for the top latents\n",
    "def compute_iou(overlaps, all_common):\n",
    "    iou = {}\n",
    "    for (lang_A, lang_B), data in overlaps.items():\n",
    "        pos_A, neg_A = get_top_latent_ids(top_latents, lang_A)\n",
    "        pos_B, neg_B = get_top_latent_ids(top_latents, lang_B)\n",
    "        \n",
    "        union_pos = set(pos_A) | set(pos_B)\n",
    "        union_neg = set(neg_A) | set(neg_B)\n",
    "        \n",
    "        iou_pos = len(data[\"positive\"]) / len(union_pos)\n",
    "        iou_neg = len(data[\"negative\"]) / len(union_neg)\n",
    "        iou_total = (len(data[\"positive\"]) + len(data[\"negative\"])) / (len(union_pos) + len(union_neg))\n",
    "        \n",
    "        iou[(lang_A, lang_B)] = {\n",
    "            \"positive\": iou_pos,\n",
    "            \"negative\": iou_neg,\n",
    "            \"total\": iou_total\n",
    "        }\n",
    "    \n",
    "    # IoU for latents common to all languages\n",
    "    pos_sets = []\n",
    "    neg_sets = []\n",
    "    for lang in languages:\n",
    "        pos_s, neg_s = get_top_latent_ids(top_latents, lang)\n",
    "        pos_sets.append(set(pos_s))\n",
    "        neg_sets.append(set(neg_s))\n",
    "    \n",
    "    union_pos = set.union(*pos_sets) if len(pos_sets) > 1 else pos_sets[0]\n",
    "    union_neg = set.union(*neg_sets) if len(neg_sets) > 1 else neg_sets[0]\n",
    "    \n",
    "    iou_all = {\n",
    "        \"positive\": len(all_common[\"positive\"]) / len(union_pos),\n",
    "        \"negative\": len(all_common[\"negative\"]) / len(union_neg),\n",
    "        \"total\": (len(all_common[\"positive\"]) + len(all_common[\"negative\"])) / (len(union_pos) + len(union_neg))\n",
    "    }\n",
    "    \n",
    "    return iou, iou_all"
   ]
  },
  {
   "cell_type": "code",
   "execution_count": 16,
   "metadata": {},
   "outputs": [
    {
     "name": "stdout",
     "output_type": "stream",
     "text": [
      "==================== English vs. Spanish ====================\n",
      "Overlap:\n",
      "  Positive => {2592, 388, 14660, 12968, 3986, 6876}\n",
      "  Negative => {3986, 388}\n",
      "\n",
      "Non-intersecting (in English only):\n",
      "  Positive => {9785}\n",
      "  Negative => {1205}\n",
      "\n",
      "Non-intersecting (in Spanish only):\n",
      "  Positive => {1584, 14305, 13400, 8383}\n",
      "  Negative => {4392, 6319}\n",
      "IoU for English & Spanish:\n",
      "  Positive: 0.55\n",
      "  Negative: 0.40\n",
      "  Total: 0.50\n",
      "\n",
      "============================================================\n",
      "\n",
      "==================== English vs. French ====================\n",
      "Overlap:\n",
      "  Positive => {2592, 14660, 12968, 3986, 6876}\n",
      "  Negative => {3986, 388}\n",
      "\n",
      "Non-intersecting (in English only):\n",
      "  Positive => {9785, 388}\n",
      "  Negative => {1205}\n",
      "\n",
      "Non-intersecting (in French only):\n",
      "  Positive => {13400, 1503, 8383}\n",
      "  Negative => {4392}\n",
      "IoU for English & French:\n",
      "  Positive: 0.50\n",
      "  Negative: 0.50\n",
      "  Total: 0.50\n",
      "\n",
      "============================================================\n",
      "\n",
      "==================== Spanish vs. French ====================\n",
      "Overlap:\n",
      "  Positive => {2592, 14660, 12968, 3986, 13400, 6876, 8383}\n",
      "  Negative => {4392, 3986, 388}\n",
      "\n",
      "Non-intersecting (in Spanish only):\n",
      "  Positive => {1584, 14305, 388}\n",
      "  Negative => {6319}\n",
      "\n",
      "Non-intersecting (in French only):\n",
      "  Positive => {1503}\n",
      "  Negative => set()\n",
      "IoU for Spanish & French:\n",
      "  Positive: 0.64\n",
      "  Negative: 0.75\n",
      "  Total: 0.67\n",
      "\n",
      "============================================================\n",
      "\n",
      "Latent IDs common to ALL languages (positive): {2592, 14660, 12968, 3986, 6876}\n",
      "Latent IDs common to ALL languages (negative): {3986, 388}\n",
      "IoU for latents common to ALL languages:\n",
      "  Positive: 0.42\n",
      "  Negative: 0.40\n",
      "  Total: 0.41\n",
      "\n"
     ]
    }
   ],
   "source": [
    "def build_latent_id_sets(top_latents):\n",
    "    \"\"\"\n",
    "    Given the original top_latents structure, returns a new dict\n",
    "    that maps each language -> {\"positive\": set_of_latent_ids, \"negative\": set_of_latent_ids}.\n",
    "    \"\"\"\n",
    "    top_latents_ids_only = {}\n",
    "    for lang in top_latents:\n",
    "        # get_top_latent_ids is your existing function that returns lists of (token_pos, latent_id)\n",
    "        pos_list, neg_list = get_top_latent_ids(top_latents, lang)\n",
    "        \n",
    "        # keep only latent_id\n",
    "        pos_latent_ids = {latent_id for (_, latent_id) in pos_list}\n",
    "        neg_latent_ids = {latent_id for (_, latent_id) in neg_list}\n",
    "        \n",
    "        top_latents_ids_only[lang] = {\n",
    "            \"positive\": pos_latent_ids,\n",
    "            \"negative\": neg_latent_ids\n",
    "        }\n",
    "    return top_latents_ids_only\n",
    "\n",
    "def compute_latent_id_overlaps(top_latents_ids_only):\n",
    "    \"\"\"\n",
    "    Returns:\n",
    "      overlaps: dict of { (langA, langB): {\"positive\": set_of_overlapping_ids, \"negative\": set_of_overlapping_ids} }\n",
    "      all_common: dict of {\"positive\": set_of_ids_in_all_langs, \"negative\": set_of_ids_in_all_langs}\n",
    "    \"\"\"\n",
    "    overlaps = {}\n",
    "    languages = list(top_latents_ids_only.keys())\n",
    "    \n",
    "    # Pairwise\n",
    "    for i in range(len(languages)):\n",
    "        for j in range(i+1, len(languages)):\n",
    "            langA, langB = languages[i], languages[j]\n",
    "            \n",
    "            posA = top_latents_ids_only[langA][\"positive\"]\n",
    "            negA = top_latents_ids_only[langA][\"negative\"]\n",
    "            posB = top_latents_ids_only[langB][\"positive\"]\n",
    "            negB = top_latents_ids_only[langB][\"negative\"]\n",
    "            \n",
    "            overlap_pos = posA & posB\n",
    "            overlap_neg = negA & negB\n",
    "            \n",
    "            overlaps[(langA, langB)] = {\n",
    "                \"positive\": overlap_pos,\n",
    "                \"negative\": overlap_neg\n",
    "            }\n",
    "    \n",
    "    # Intersection across *all* languages (all-common)\n",
    "    pos_sets = [top_latents_ids_only[lang][\"positive\"] for lang in languages]\n",
    "    neg_sets = [top_latents_ids_only[lang][\"negative\"] for lang in languages]\n",
    "    \n",
    "    # intersection over all languages\n",
    "    all_pos = set.intersection(*pos_sets)\n",
    "    all_neg = set.intersection(*neg_sets)\n",
    "    \n",
    "    all_common = {\n",
    "        \"positive\": all_pos,\n",
    "        \"negative\": all_neg\n",
    "    }\n",
    "    \n",
    "    return overlaps, all_common\n",
    "\n",
    "def compute_latent_id_iou(top_latents_ids_only, overlaps_ids, all_common_ids):\n",
    "    \"\"\"\n",
    "    For each (langA, langB) pair, compute:\n",
    "      iou_pos = |overlap_pos| / |union_pos|\n",
    "      iou_neg = |overlap_neg| / |union_neg|\n",
    "      iou_total = (|overlap_pos|+|overlap_neg|) / (|union_pos|+|union_neg|)\n",
    "    Also compute iou_all for latents common to all languages.\n",
    "    \"\"\"\n",
    "    iou = {}\n",
    "    \n",
    "    languages = list(top_latents_ids_only.keys())\n",
    "    for (langA, langB), data in overlaps_ids.items():\n",
    "        posA = top_latents_ids_only[langA][\"positive\"]\n",
    "        negA = top_latents_ids_only[langA][\"negative\"]\n",
    "        posB = top_latents_ids_only[langB][\"positive\"]\n",
    "        negB = top_latents_ids_only[langB][\"negative\"]\n",
    "        \n",
    "        union_pos = posA | posB\n",
    "        union_neg = negA | negB\n",
    "        \n",
    "        overlap_pos = data[\"positive\"]\n",
    "        overlap_neg = data[\"negative\"]\n",
    "        \n",
    "        iou_pos = len(overlap_pos) / len(union_pos) if len(union_pos) > 0 else 0\n",
    "        iou_neg = len(overlap_neg) / len(union_neg) if len(union_neg) > 0 else 0\n",
    "        \n",
    "        denom_total = (len(union_pos) + len(union_neg))\n",
    "        overlap_total = (len(overlap_pos) + len(overlap_neg))\n",
    "        iou_total = overlap_total / denom_total if denom_total > 0 else 0\n",
    "        \n",
    "        iou[(langA, langB)] = {\n",
    "            \"positive\": iou_pos,\n",
    "            \"negative\": iou_neg,\n",
    "            \"total\": iou_total\n",
    "        }\n",
    "\n",
    "    # IoU for latents common to ALL languages\n",
    "    pos_sets = [top_latents_ids_only[lang][\"positive\"] for lang in languages]\n",
    "    neg_sets = [top_latents_ids_only[lang][\"negative\"] for lang in languages]\n",
    "    \n",
    "    union_pos = set.union(*pos_sets)\n",
    "    union_neg = set.union(*neg_sets)\n",
    "\n",
    "    overlap_pos_all = all_common_ids[\"positive\"]\n",
    "    overlap_neg_all = all_common_ids[\"negative\"]\n",
    "\n",
    "    iou_pos_all = len(overlap_pos_all) / len(union_pos) if len(union_pos) > 0 else 0\n",
    "    iou_neg_all = len(overlap_neg_all) / len(union_neg) if len(union_neg) > 0 else 0\n",
    "    \n",
    "    denom_total_all = (len(union_pos) + len(union_neg))\n",
    "    overlap_total_all = (len(overlap_pos_all) + len(overlap_neg_all))\n",
    "    iou_total_all = overlap_total_all / denom_total_all if denom_total_all > 0 else 0\n",
    "\n",
    "    iou_all = {\n",
    "        \"positive\": iou_pos_all,\n",
    "        \"negative\": iou_neg_all,\n",
    "        \"total\": iou_total_all\n",
    "    }\n",
    "\n",
    "    return iou, iou_all\n",
    "\n",
    "# -- NEW HELPER: Pairwise Non-Intersecting Latent IDs --\n",
    "def get_pairwise_non_intersecting_ids(top_latents_ids_only):\n",
    "    \"\"\"\n",
    "    For each pair (langA, langB), returns the latent IDs in langA *not* in the intersection with langB,\n",
    "    and vice versa (for both positive and negative).\n",
    "    \n",
    "    results[(langA, langB)] = {\n",
    "      \"non_intersecting_A\": {\n",
    "        \"positive\": set_of_latent_ids,\n",
    "        \"negative\": set_of_latent_ids\n",
    "      },\n",
    "      \"non_intersecting_B\": {\n",
    "        \"positive\": set_of_latent_ids,\n",
    "        \"negative\": set_of_latent_ids\n",
    "      }\n",
    "    }\n",
    "    \"\"\"\n",
    "    results = {}\n",
    "    languages = list(top_latents_ids_only.keys())\n",
    "    \n",
    "    for i in range(len(languages)):\n",
    "        for j in range(i+1, len(languages)):\n",
    "            langA, langB = languages[i], languages[j]\n",
    "\n",
    "            posA = top_latents_ids_only[langA][\"positive\"]\n",
    "            negA = top_latents_ids_only[langA][\"negative\"]\n",
    "            posB = top_latents_ids_only[langB][\"positive\"]\n",
    "            negB = top_latents_ids_only[langB][\"negative\"]\n",
    "            \n",
    "            # Intersections\n",
    "            overlap_pos = posA & posB\n",
    "            overlap_neg = negA & negB\n",
    "            \n",
    "            # Non-intersecting from A's perspective\n",
    "            nonA_pos = posA - overlap_pos\n",
    "            nonA_neg = negA - overlap_neg\n",
    "            \n",
    "            # Non-intersecting from B's perspective\n",
    "            nonB_pos = posB - overlap_pos\n",
    "            nonB_neg = negB - overlap_neg\n",
    "            \n",
    "            results[(langA, langB)] = {\n",
    "                \"non_intersecting_A\": {\n",
    "                    \"positive\": nonA_pos,\n",
    "                    \"negative\": nonA_neg\n",
    "                },\n",
    "                \"non_intersecting_B\": {\n",
    "                    \"positive\": nonB_pos,\n",
    "                    \"negative\": nonB_neg\n",
    "                }\n",
    "            }\n",
    "    \n",
    "    return results\n",
    "\n",
    "# ------------------- RUN EVERYTHING -------------------\n",
    "top_latents_ids_only = build_latent_id_sets(top_latents)\n",
    "overlaps_ids, all_common_ids = compute_latent_id_overlaps(top_latents_ids_only)\n",
    "iou_ids, iou_all_ids = compute_latent_id_iou(top_latents_ids_only, overlaps_ids, all_common_ids)\n",
    "pairwise_non_intersecting = get_pairwise_non_intersecting_ids(top_latents_ids_only)\n",
    "\n",
    "# -- Print Pairwise Overlaps --\n",
    "for (langA, langB) in overlaps_ids.keys():\n",
    "    # Overlap data\n",
    "    overlap_data = overlaps_ids[(langA, langB)]\n",
    "    # Non-intersecting data\n",
    "    non_data = pairwise_non_intersecting[(langA, langB)]\n",
    "    \n",
    "    print(f\"==================== {langA} vs. {langB} ====================\")\n",
    "    \n",
    "    # Overlaps\n",
    "    print(\"Overlap:\")\n",
    "    print(f\"  Positive => {overlap_data['positive']}\")\n",
    "    print(f\"  Negative => {overlap_data['negative']}\")\n",
    "    \n",
    "    # Non-intersecting latents for langA\n",
    "    print(f\"\\nNon-intersecting (in {langA} only):\")\n",
    "    print(f\"  Positive => {non_data['non_intersecting_A']['positive']}\")\n",
    "    print(f\"  Negative => {non_data['non_intersecting_A']['negative']}\")\n",
    "    \n",
    "    # Non-intersecting latents for langB\n",
    "    print(f\"\\nNon-intersecting (in {langB} only):\")\n",
    "    print(f\"  Positive => {non_data['non_intersecting_B']['positive']}\")\n",
    "    print(f\"  Negative => {non_data['non_intersecting_B']['negative']}\")\n",
    "\n",
    "    iou_values = iou_ids[(langA, langB)]\n",
    "    print(f\"IoU for {langA} & {langB}:\")\n",
    "    print(f\"  Positive: {iou_values['positive']:.2f}\")\n",
    "    print(f\"  Negative: {iou_values['negative']:.2f}\")\n",
    "    print(f\"  Total: {iou_values['total']:.2f}\\n\")\n",
    "    \n",
    "    print(\"============================================================\\n\")\n",
    "\n",
    "print(\"Latent IDs common to ALL languages (positive):\", all_common_ids[\"positive\"])\n",
    "print(\"Latent IDs common to ALL languages (negative):\", all_common_ids[\"negative\"])\n",
    "print(f\"IoU for latents common to ALL languages:\")\n",
    "print(f\"  Positive: {iou_all_ids['positive']:.2f}\")\n",
    "print(f\"  Negative: {iou_all_ids['negative']:.2f}\")\n",
    "print(f\"  Total: {iou_all_ids['total']:.2f}\\n\")"
   ]
  },
  {
   "cell_type": "code",
   "execution_count": 17,
   "metadata": {},
   "outputs": [
    {
     "name": "stdout",
     "output_type": "stream",
     "text": [
      "Overlap between English & Spanish:\n",
      "  Positive: {(11, 6876), (5, 2592), (5, 14660), (3, 388), (11, 12968), (9, 3986)}\n",
      "  Negative: {(5, 3986), (11, 3986), (5, 388)}\n",
      "IoU between English & Spanish:\n",
      "  Positive: 0.40\n",
      "  Negative: 0.50\n",
      "  Total: 0.43\n",
      "\n",
      "Overlap between English & French:\n",
      "  Positive: {(5, 2592), (5, 14660)}\n",
      "  Negative: {(5, 3986), (5, 388)}\n",
      "IoU between English & French:\n",
      "  Positive: 0.13\n",
      "  Negative: 0.33\n",
      "  Total: 0.19\n",
      "\n",
      "Overlap between Spanish & French:\n",
      "  Positive: {(4, 3986), (5, 2592), (3, 3986), (1, 3986), (5, 14660)}\n",
      "  Negative: {(5, 3986), (5, 388), (1, 4392)}\n",
      "IoU between Spanish & French:\n",
      "  Positive: 0.26\n",
      "  Negative: 0.50\n",
      "  Total: 0.32\n",
      "\n",
      "Latents common to ALL languages:\n",
      "  Positive: {(5, 2592), (5, 14660)}\n",
      "  Negative: {(5, 3986), (5, 388)}\n",
      "IoU for latents common to ALL languages:\n",
      "  Positive: 0.10\n",
      "  Negative: 0.29\n",
      "  Total: 0.15\n"
     ]
    }
   ],
   "source": [
    "overlaps, all_common = compute_latent_overlaps(top_latents)\n",
    "iou, iou_all = compute_iou(overlaps, all_common)\n",
    "\n",
    "# Print out pairwise overlaps and IoU\n",
    "for (lang_A, lang_B), data in overlaps.items():\n",
    "    print(f\"Overlap between {lang_A} & {lang_B}:\")\n",
    "    print(f\"  Positive: {data['positive']}\")\n",
    "    print(f\"  Negative: {data['negative']}\")\n",
    "    print(f\"IoU between {lang_A} & {lang_B}:\")\n",
    "    print(f\"  Positive: {iou[(lang_A, lang_B)]['positive']:.2f}\")\n",
    "    print(f\"  Negative: {iou[(lang_A, lang_B)]['negative']:.2f}\")\n",
    "    print(f\"  Total: {iou[(lang_A, lang_B)]['total']:.2f}\")\n",
    "\n",
    "    print(\"\")\n",
    "\n",
    "# Print out latents common to *all* languages\n",
    "print(\"Latents common to ALL languages:\")\n",
    "print(f\"  Positive: {all_common['positive']}\")\n",
    "print(f\"  Negative: {all_common['negative']}\")\n",
    "print(f\"IoU for latents common to ALL languages:\")\n",
    "print(f\"  Positive: {iou_all['positive']:.2f}\")\n",
    "print(f\"  Negative: {iou_all['negative']:.2f}\")\n",
    "print(f\"  Total: {iou_all['total']:.2f}\")"
   ]
  },
  {
   "cell_type": "code",
   "execution_count": 18,
   "metadata": {},
   "outputs": [],
   "source": [
    "# Recompute overlaps but only considering latent IDs and not token positions\n",
    "\n"
   ]
  },
  {
   "cell_type": "code",
   "execution_count": 19,
   "metadata": {},
   "outputs": [
    {
     "name": "stdout",
     "output_type": "stream",
     "text": [
      "Pair: English vs. Spanish\n",
      "  In English but NOT in the intersection =>\n",
      "    Positive: {(15, 9785)}\n",
      "    Negative: {(9, 1205)}\n",
      "  In Spanish but NOT in the intersection =>\n",
      "    Positive: {(4, 3986), (6, 14305), (16, 8383), (16, 1584), (3, 3986), (11, 13400), (1, 3986), (7, 14305)}\n",
      "    Negative: {(1, 4392), (5, 6319)}\n",
      "\n",
      "Pair: English vs. French\n",
      "  In English but NOT in the intersection =>\n",
      "    Positive: {(11, 6876), (15, 9785), (3, 388), (11, 12968), (9, 3986)}\n",
      "    Negative: {(11, 3986), (9, 1205)}\n",
      "  In French but NOT in the intersection =>\n",
      "    Positive: {(4, 3986), (12, 6876), (17, 8383), (3, 3986), (12, 13400), (1, 3986), (14, 1503), (12, 12968)}\n",
      "    Negative: {(1, 4392), (12, 3986)}\n",
      "\n",
      "Pair: Spanish vs. French\n",
      "  In Spanish but NOT in the intersection =>\n",
      "    Positive: {(11, 6876), (16, 8383), (6, 14305), (16, 1584), (11, 13400), (3, 388), (11, 12968), (7, 14305), (9, 3986)}\n",
      "    Negative: {(11, 3986), (5, 6319)}\n",
      "  In French but NOT in the intersection =>\n",
      "    Positive: {(12, 6876), (17, 8383), (12, 13400), (14, 1503), (12, 12968)}\n",
      "    Negative: {(12, 3986)}\n",
      "\n"
     ]
    }
   ],
   "source": [
    "# Show non-overlapping latents\n",
    "\n",
    "def get_non_intersecting_pairwise(top_latents):\n",
    "    \"\"\"\n",
    "    For each pair of languages (lang_A, lang_B), returns the latents in lang_A\n",
    "    that are *not* in the intersection with lang_B (and vice versa).\n",
    "    \"\"\"\n",
    "    results = {}\n",
    "    languages = list(top_latents.keys())\n",
    "    \n",
    "    for i in range(len(languages)):\n",
    "        for j in range(i+1, len(languages)):\n",
    "            lang_A, lang_B = languages[i], languages[j]\n",
    "            pos_A, neg_A = get_top_latent_ids(top_latents, lang_A)\n",
    "            pos_B, neg_B = get_top_latent_ids(top_latents, lang_B)\n",
    "            \n",
    "            set_A_pos = set(pos_A)\n",
    "            set_A_neg = set(neg_A)\n",
    "            set_B_pos = set(pos_B)\n",
    "            set_B_neg = set(neg_B)\n",
    "            \n",
    "            # Intersection\n",
    "            overlap_pos = set_A_pos & set_B_pos\n",
    "            overlap_neg = set_A_neg & set_B_neg\n",
    "            \n",
    "            # Non-intersecting from lang_A perspective:\n",
    "            non_overlap_A_pos = set_A_pos - overlap_pos\n",
    "            non_overlap_A_neg = set_A_neg - overlap_neg\n",
    "            \n",
    "            # Non-intersecting from lang_B perspective:\n",
    "            non_overlap_B_pos = set_B_pos - overlap_pos\n",
    "            non_overlap_B_neg = set_B_neg - overlap_neg\n",
    "            \n",
    "            results[(lang_A, lang_B)] = {\n",
    "                \"non_intersecting_A\": {\n",
    "                    \"positive\": non_overlap_A_pos,\n",
    "                    \"negative\": non_overlap_A_neg\n",
    "                },\n",
    "                \"non_intersecting_B\": {\n",
    "                    \"positive\": non_overlap_B_pos,\n",
    "                    \"negative\": non_overlap_B_neg\n",
    "                }\n",
    "            }\n",
    "    return results\n",
    "\n",
    "pairwise_non_intersecting = get_non_intersecting_pairwise(top_latents)\n",
    "\n",
    "# Print them out\n",
    "for (lang_A, lang_B), data in pairwise_non_intersecting.items():\n",
    "    print(f\"Pair: {lang_A} vs. {lang_B}\")\n",
    "    print(f\"  In {lang_A} but NOT in the intersection =>\")\n",
    "    print(f\"    Positive: {data['non_intersecting_A']['positive']}\")\n",
    "    print(f\"    Negative: {data['non_intersecting_A']['negative']}\")\n",
    "    print(f\"  In {lang_B} but NOT in the intersection =>\")\n",
    "    print(f\"    Positive: {data['non_intersecting_B']['positive']}\")\n",
    "    print(f\"    Negative: {data['non_intersecting_B']['negative']}\")\n",
    "    print()\n"
   ]
  },
  {
   "cell_type": "code",
   "execution_count": 20,
   "metadata": {},
   "outputs": [
    {
     "name": "stdout",
     "output_type": "stream",
     "text": [
      "['<bos>', 'Then', ',', ' Richard', ' and', ' Erica', ' went', ' to', ' the', ' hospital', '.', ' Richard', ' gave', ' a', ' drink', ' to']\n",
      "['<bos>', 'Luego', ',', ' Richard', ' y', ' Erica', ' fueron', ' al', ' hospital', '.', ' Richard', ' le', ' dio', ' una', ' bebida', ' a']\n",
      "['<bos>', 'Ensuite', ',', ' Richard', ' et', ' Erica', ' sont', ' all', 'és', ' à', ' l', \"'\", 'hôpital', '.', ' Richard', ' a', ' donné', ' une', ' boisson', ' à']\n",
      "0.002331009\n"
     ]
    }
   ],
   "source": [
    "eng_sentence = \"Then, Richard and Erica went to the hospital. Richard gave a drink to\"\n",
    "esp_sentence = \"Luego, Richard y Erica fueron al hospital. Richard le dio una bebida a\"\n",
    "fra_sentence = \"Ensuite, Richard et Erica sont allés à l'hôpital. Richard a donné une boisson à\"\n",
    "\n",
    "# Tokenize each sentence\n",
    "for sentence in [eng_sentence, esp_sentence, fra_sentence]:\n",
    "    token_ids = model.to_tokens(sentence)[0]\n",
    "    tokens = [model.to_string(t) for t in token_ids]\n",
    "    print(tokens)\n",
    "\n",
    "lang = \"French\"\n",
    "token_idx = 15\n",
    "latent_idx = 1503\n",
    "print(causal_effects[lang][token_idx, latent_idx])"
   ]
  },
  {
   "cell_type": "code",
   "execution_count": 21,
   "metadata": {},
   "outputs": [],
   "source": [
    "from typing import List, Tuple\n",
    "\n",
    "def compute_latent_activations(\n",
    "    model,\n",
    "    saes: list,\n",
    "    data: dict,\n",
    "    seq_pos: int,\n",
    "    latent_idx: int,\n",
    "    device: str = \"cuda\"\n",
    ") -> np.ndarray:\n",
    "    \n",
    "\n",
    "    toks = model.to_tokens(data[\"prompts\"])\n",
    "    answers = data_batches[lang][\"answers\"]\n",
    "    labels = torch.Tensor([model.to_single_token(answer) for answer in answers]).int().to(device)\n",
    "\n",
    "    all_activations = []\n",
    "\n",
    "    # We'll assume the relevant activation key is something like \"<hook_name>.hook_sae_acts_post\"\n",
    "    # taken from the SAE's configuration. Adapt if your naming differs.\n",
    "    hook_sae_acts_post = f\"{saes[0].cfg.hook_name}.hook_sae_acts_post\"\n",
    "\n",
    "    # Run the model and get the cache\n",
    "    # (logits, cache) has shape [batch_size, seq_len, d_sae] for the activation at that hook\n",
    "    logits, cache = model.run_with_cache_with_saes(toks, saes=saes)\n",
    "\n",
    "    # Extract the activation from the cache\n",
    "    # `cache[hook_sae_acts_post]` => shape [batch_size, seq_len, d_sae], typically\n",
    "    acts = cache[hook_sae_acts_post].detach().cpu()\n",
    "\n",
    "    # Safety check: if seq_pos >= batch_acts.shape[1], you'll be out-of-bounds.\n",
    "    # You could skip or clamp. Below we do a min(...) to avoid an error.\n",
    "    seq_pos_safe = min(seq_pos, acts.shape[1] - 1)\n",
    "    latent_idx_safe = min(latent_idx, acts.shape[2] - 1)\n",
    "\n",
    "    # Extract the single activation value for each sample in the batch\n",
    "    # shape => [batch_size]\n",
    "    selected_acts = acts[:, seq_pos_safe, latent_idx_safe].numpy()\n",
    "    all_activations.extend(selected_acts)\n",
    "\n",
    "    return np.array(all_activations)"
   ]
  },
  {
   "cell_type": "code",
   "execution_count": 75,
   "metadata": {},
   "outputs": [
    {
     "name": "stderr",
     "output_type": "stream",
     "text": [
      "/tmp/ipykernel_1722637/1042435325.py:7: UserWarning: Dataset has 0 variance; skipping density estimate. Pass `warn_singular=False` to disable this warning.\n",
      "  sns.kdeplot(activations_B, fill=True, color=\"red\", alpha=0.3, label=label_B)\n"
     ]
    },
    {
     "data": {
      "image/png": "[encoded data removed]",
      "text/plain": [
       "<Figure size 1000x500 with 1 Axes>"
      ]
     },
     "metadata": {},
     "output_type": "display_data"
    }
   ],
   "source": [
    "import seaborn as sns\n",
    "\n",
    "def plot_latent_activation_distributions(activations_A, activations_B, label_A, label_B, plot_title):\n",
    "\n",
    "    plt.figure(figsize=(10, 5))\n",
    "    sns.kdeplot(activations_A, fill=True, color=\"blue\", alpha=0.3, label=label_A)\n",
    "    sns.kdeplot(activations_B, fill=True, color=\"red\", alpha=0.3, label=label_B)\n",
    "    plt.title(plot_title)\n",
    "    plt.xlabel(\"Activation Value\")\n",
    "    plt.ylabel(\"Density\")\n",
    "    plt.legend()\n",
    "    plt.show()\n",
    "    \n",
    "lang_A = \"English\"\n",
    "lang_B = \"Spanish\"\n",
    "activations_lang_A = compute_latent_activations(model, [sae], data_batches[lang_A], 9, 1205, device=device)\n",
    "activations_lang_B = compute_latent_activations(model, [sae], data_batches[lang_B], 12, 1205, device=device)\n",
    "plot_latent_activation_distributions(activations_lang_A, activations_lang_B, lang_A, lang_B, f\"Latent Activation Distribution (KDE) for {lang_A} vs. {lang_B}\")"
   ]
  },
  {
   "cell_type": "code",
   "execution_count": null,
   "metadata": {},
   "outputs": [
    {
     "data": {
      "image/png": "[encoded data removed]",
      "text/plain": [
       "<Figure size 1000x500 with 1 Axes>"
      ]
     },
     "metadata": {},
     "output_type": "display_data"
    }
   ],
   "source": [
    "lang_A = \"English\"\n",
    "lang_B = \"Spanish\"\n",
    "activations_lang_A = compute_latent_activations(model, [sae], data_batches[lang_A], 11, 6876, device=device)\n",
    "activations_lang_B = compute_latent_activations(model, [sae], data_batches[lang_A], 11, 12968, device=device)\n",
    "label_A = \"(11, 6876)\"\n",
    "label_B = \"(11, 12968)\"\n",
    "plot_title = f\"Latent Activation Distribution (KDE) for {label_A} vs. {label_B}\"\n",
    "plot_latent_activation_distributions(activations_lang_A, activations_lang_B, label_A, label_B, plot_title)"
   ]
  },
  {
   "cell_type": "markdown",
   "metadata": {},
   "source": [
    "# How do copies get chosen?"
   ]
  },
  {
   "cell_type": "code",
   "execution_count": null,
   "metadata": {},
   "outputs": [],
   "source": [
    "# Use bootstrap sampling to get different lists of top latents for each language\n",
    "# We will try to find the variability"
   ]
  },
  {
   "cell_type": "markdown",
   "metadata": {},
   "source": [
    "# Exchanging copies"
   ]
  },
  {
   "cell_type": "code",
   "execution_count": 24,
   "metadata": {},
   "outputs": [],
   "source": [
    "from scipy.spatial.distance import cosine\n",
    "from scipy.stats import entropy\n",
    "\n",
    "def swap_latent_activations(\n",
    "    model,\n",
    "    saes,\n",
    "    data,\n",
    "    seq_pos: int,\n",
    "    latent_idx_1: int,\n",
    "    latent_idx_2: int,\n",
    "):\n",
    "    \"\"\"Swap activations of two latents and track shifts in top 5 predicted logits.\"\"\"\n",
    "    cleanup_cuda()\n",
    "    \n",
    "    # Tokenize input prompts\n",
    "    toks = model.to_tokens(data[\"prompts\"]).to(device)\n",
    "    answers = data[\"answers\"]\n",
    "    labels = torch.Tensor([model.to_single_token(answer) for answer in answers]).int().to(device)\n",
    "    \n",
    "    # Get original activations\n",
    "    hook_sae_acts_post = f\"{saes[0].cfg.hook_name}.hook_sae_acts_post\"\n",
    "    orig_logits, orig_cache = model.run_with_cache_with_saes(toks, saes=saes)\n",
    "    orig_acts = orig_cache[hook_sae_acts_post].detach().clone()  # Shape: [batch_size, seq_len, d_sae]\n",
    "\n",
    "    # Swap activations at the selected sequence position\n",
    "    modified_acts = orig_acts.clone()\n",
    "    modified_acts[:, :, latent_idx_1], modified_acts[:, :, latent_idx_2] = (\n",
    "        orig_acts[:, :, latent_idx_2].clone(),\n",
    "        orig_acts[:, :, latent_idx_1].clone()\n",
    "    )\n",
    "\n",
    "    # Define a hook to replace activations\n",
    "    def activation_hook(act, hook):\n",
    "        if seq_pos < 0:\n",
    "            act[:, :, latent_idx_1] = modified_acts[:, :, latent_idx_1]\n",
    "            act[:, :, latent_idx_2] = modified_acts[:, :, latent_idx_2]            \n",
    "        else:\n",
    "            act[:, seq_pos, latent_idx_1] = modified_acts[:, seq_pos, latent_idx_1]\n",
    "            act[:, seq_pos, latent_idx_2] = modified_acts[:, seq_pos, latent_idx_2]\n",
    "        return act\n",
    "    \n",
    "    model.reset_hooks(including_permanent=True)\n",
    "    model.reset_saes()\n",
    "    model.add_sae(saes[0])\n",
    "    model.add_hook(hook_sae_acts_post, activation_hook, \"fwd\")\n",
    "\n",
    "    # Re-run model with swapped activations\n",
    "    swapped_logits = model(toks)\n",
    "\n",
    "    clear_memory(saes, model)\n",
    "    model.reset_hooks(including_permanent=True)\n",
    "    model.reset_saes()\n",
    "\n",
    "    # Convert to probabilities\n",
    "    orig_probs = torch.softmax(orig_logits[:, -1, :], dim=-1).detach().cpu().numpy()\n",
    "    swapped_probs = torch.softmax(swapped_logits[:, -1, :], dim=-1).detach().cpu().numpy()\n",
    "\n",
    "    # Compute logit shift metrics\n",
    "    kl_div = np.mean([entropy(orig_probs[i], swapped_probs[i]) for i in range(orig_probs.shape[0])])\n",
    "    cosine_sim = np.mean([1 - cosine(orig_probs[i], swapped_probs[i]) for i in range(orig_probs.shape[0])])\n",
    "    l2_norm = np.mean(np.linalg.norm(orig_probs - swapped_probs, axis=1))\n",
    "\n",
    "    # Find top 5 predicted tokens before and after swap\n",
    "    top_5_orig = np.argsort(-orig_probs, axis=1)[:, :5]  # Top 5 token indices\n",
    "    top_5_swapped = np.argsort(-swapped_probs, axis=1)[:, :5]\n",
    "\n",
    "    # Map token indices to actual token strings (optional, if vocab available)\n",
    "    def decode_top_tokens(top_indices, probs):\n",
    "        return [\n",
    "            [(model.to_string(idx), probs[i, idx]) for idx in top_indices[i]]\n",
    "            for i in range(probs.shape[0])\n",
    "        ]\n",
    "\n",
    "    orig_top_tokens = decode_top_tokens(top_5_orig, orig_probs)\n",
    "    swapped_top_tokens = decode_top_tokens(top_5_swapped, swapped_probs)\n",
    "\n",
    "    return {\n",
    "        \"kl_divergence\": kl_div,\n",
    "        \"cosine_similarity\": cosine_sim,\n",
    "        \"l2_norm\": l2_norm,\n",
    "        \"top_5_orig\": orig_top_tokens,\n",
    "        \"top_5_swapped\": swapped_top_tokens\n",
    "    }\n"
   ]
  },
  {
   "cell_type": "code",
   "execution_count": 44,
   "metadata": {},
   "outputs": [
    {
     "name": "stdout",
     "output_type": "stream",
     "text": [
      "[(' Richard', 0.3718224), (' Erica', 0.25429702), (' la', 0.15064962), (' su', 0.069329195), (' los', 0.010672977)]\n",
      "[(' Erica', 0.4996672), (' Richard', 0.2988747), (' la', 0.06622606), (' su', 0.06032263), (' los', 0.0048070354)]\n",
      "KL divergence: 0.10400761\n",
      "Cosine similarity: 0.9836918509306596\n",
      "L2 Norm: 0.096151575\n"
     ]
    }
   ],
   "source": [
    "lang = \"Spanish\"\n",
    "results_swap = swap_latent_activations(model, [sae], data_batches[lang], seq_pos=-1, latent_idx_1=2592, latent_idx_2=3986)\n",
    "swap_idx = -1\n",
    "print(results_swap[\"top_5_orig\"][swap_idx])\n",
    "print(results_swap[\"top_5_swapped\"][swap_idx])\n",
    "print(f\"KL divergence:\", results_swap[\"kl_divergence\"])\n",
    "print(f\"Cosine similarity:\", results_swap[\"cosine_similarity\"])\n",
    "print(f\"L2 Norm:\", results_swap[\"l2_norm\"])"
   ]
  },
  {
   "cell_type": "code",
   "execution_count": 50,
   "metadata": {},
   "outputs": [
    {
     "name": "stdout",
     "output_type": "stream",
     "text": [
      "[(' Erica', 0.72699416), (' Richard', 0.057610396), (' l', 0.051163867), (' la', 0.040076338), (' son', 0.020224964)]\n",
      "[(' Erica', 0.7184587), (' Richard', 0.060737167), (' l', 0.05252104), (' la', 0.041235954), (' son', 0.020950764)]\n",
      "KL divergence: 1.4828845e-05\n",
      "Cosine similarity: 0.9999927709213134\n",
      "L2 Norm: 0.00071704364\n"
     ]
    }
   ],
   "source": [
    "lang = \"French\"\n",
    "results_swap = swap_latent_activations(model, [sae], data_batches[lang], seq_pos=-1, latent_idx_1=6876, latent_idx_2=12968)\n",
    "swap_idx = -1\n",
    "print(results_swap[\"top_5_orig\"][swap_idx])\n",
    "print(results_swap[\"top_5_swapped\"][swap_idx])\n",
    "print(f\"KL divergence:\", results_swap[\"kl_divergence\"])\n",
    "print(f\"Cosine similarity:\", results_swap[\"cosine_similarity\"])\n",
    "print(f\"L2 Norm:\", results_swap[\"l2_norm\"])"
   ]
  },
  {
   "cell_type": "code",
   "execution_count": 52,
   "metadata": {},
   "outputs": [],
   "source": [
    "def zero_ablate_latent(\n",
    "    model,\n",
    "    saes,\n",
    "    data,\n",
    "    seq_pos: int,\n",
    "    latent_idx: int,\n",
    "    device: str = \"cuda\"\n",
    "):\n",
    "    cleanup_cuda()\n",
    "    \n",
    "    # Tokenize input prompts\n",
    "    toks = model.to_tokens(data[\"prompts\"]).to(device)\n",
    "    answers = data[\"answers\"]\n",
    "    labels = torch.Tensor([model.to_single_token(answer) for answer in answers]).int().to(device)\n",
    "    \n",
    "    # Get original activations\n",
    "    hook_sae_acts_post = f\"{saes[0].cfg.hook_name}.hook_sae_acts_post\"\n",
    "    orig_logits, orig_cache = model.run_with_cache_with_saes(toks, saes=saes)\n",
    "    orig_acts = orig_cache[hook_sae_acts_post].detach().clone()  # Shape: [batch_size, seq_len, d_sae]\n",
    "\n",
    "    # Define a hook to replace activations\n",
    "    def zero_ablation_hook(act, hook):\n",
    "        if seq_pos < 0:\n",
    "            act[:, :, latent_idx] = 0.0\n",
    "        else:\n",
    "            act[:, seq_pos, latent_idx] = 0.0\n",
    "        return act\n",
    "    \n",
    "    model.reset_hooks(including_permanent=True)\n",
    "    model.reset_saes()\n",
    "    model.add_sae(saes[0])\n",
    "    model.add_hook(hook_sae_acts_post, zero_ablation_hook, \"fwd\")\n",
    "\n",
    "    # Re-run model with swapped activations\n",
    "    swapped_logits = model(toks)\n",
    "\n",
    "    clear_memory(saes, model)\n",
    "    model.reset_hooks(including_permanent=True)\n",
    "    model.reset_saes()\n",
    "\n",
    "    # Convert to probabilities\n",
    "    orig_probs = torch.softmax(orig_logits[:, -1, :], dim=-1).detach().cpu().numpy()\n",
    "    swapped_probs = torch.softmax(swapped_logits[:, -1, :], dim=-1).detach().cpu().numpy()\n",
    "\n",
    "    # Compute logit shift metrics\n",
    "    kl_div = np.mean([entropy(orig_probs[i], swapped_probs[i]) for i in range(orig_probs.shape[0])])\n",
    "    cosine_sim = np.mean([1 - cosine(orig_probs[i], swapped_probs[i]) for i in range(orig_probs.shape[0])])\n",
    "    l2_norm = np.mean(np.linalg.norm(orig_probs - swapped_probs, axis=1))\n",
    "\n",
    "    # Find top 5 predicted tokens before and after swap\n",
    "    top_5_orig = np.argsort(-orig_probs, axis=1)[:, :5]  # Top 5 token indices\n",
    "    top_5_swapped = np.argsort(-swapped_probs, axis=1)[:, :5]\n",
    "\n",
    "    # Map token indices to actual token strings (optional, if vocab available)\n",
    "    def decode_top_tokens(top_indices, probs):\n",
    "        return [\n",
    "            [(model.to_string(idx), probs[i, idx]) for idx in top_indices[i]]\n",
    "            for i in range(probs.shape[0])\n",
    "        ]\n",
    "\n",
    "    orig_top_tokens = decode_top_tokens(top_5_orig, orig_probs)\n",
    "    swapped_top_tokens = decode_top_tokens(top_5_swapped, swapped_probs)\n",
    "\n",
    "    return {\n",
    "        \"kl_divergence\": kl_div,\n",
    "        \"cosine_similarity\": cosine_sim,\n",
    "        \"l2_norm\": l2_norm,\n",
    "        \"top_5_orig\": orig_top_tokens,\n",
    "        \"top_5_swapped\": swapped_top_tokens\n",
    "    }"
   ]
  },
  {
   "cell_type": "code",
   "execution_count": 60,
   "metadata": {},
   "outputs": [],
   "source": [
    "def compare_copies_zero_ablated(\n",
    "    model,\n",
    "    saes: list,\n",
    "    data: dict,\n",
    "    seq_pos: int,\n",
    "    zeroed_latent: int,\n",
    "    test_latent: int,\n",
    ") -> np.ndarray:\n",
    "    \n",
    "\n",
    "    toks = model.to_tokens(data[\"prompts\"])\n",
    "    answers = data[\"answers\"]\n",
    "    labels = torch.Tensor([model.to_single_token(answer) for answer in answers]).int().to(device)\n",
    "\n",
    "    # We'll assume the relevant activation key is something like \"<hook_name>.hook_sae_acts_post\"\n",
    "    # taken from the SAE's configuration. Adapt if your naming differs.\n",
    "    hook_sae_acts_post = f\"{saes[0].cfg.hook_name}.hook_sae_acts_post\"\n",
    "\n",
    "    # Run the model and get the cache\n",
    "    # (logits, cache) has shape [batch_size, seq_len, d_sae] for the activation at that hook\n",
    "    orig_logits, orig_cache = model.run_with_cache_with_saes(toks, saes=saes)\n",
    "\n",
    "    # Extract the activation from the cache\n",
    "    # `cache[hook_sae_acts_post]` => shape [batch_size, seq_len, d_sae], typically\n",
    "    orig_acts = orig_cache[hook_sae_acts_post].detach().cpu()\n",
    "\n",
    "    cleanup_cuda()\n",
    "\n",
    "    # Define a hook to replace activations\n",
    "    def zero_ablation_hook(act, hook):\n",
    "        if seq_pos < 0:\n",
    "            act[:, :, latent_idx] = 0.0\n",
    "        else:\n",
    "            act[:, seq_pos, latent_idx] = 0.0\n",
    "        return act\n",
    "    \n",
    "    model.reset_hooks(including_permanent=True)\n",
    "    model.reset_saes()\n",
    "    model.add_sae(saes[0])\n",
    "    model.add_hook(hook_sae_acts_post, zero_ablation_hook, \"fwd\")\n",
    "\n",
    "    ablated_logits, ablated_cache = model.run_with_cache_with_saes(toks, saes=saes)\n",
    "\n",
    "    ablated_acts = ablated_cache[hook_sae_acts_post].detach().cpu()\n",
    "\n",
    "    model.reset_hooks(including_permanent=True)\n",
    "    model.reset_saes()\n",
    "    cleanup_cuda()\n",
    "\n",
    "    return orig_acts, ablated_acts"
   ]
  },
  {
   "cell_type": "code",
   "execution_count": 72,
   "metadata": {},
   "outputs": [
    {
     "name": "stdout",
     "output_type": "stream",
     "text": [
      "English: ablating latent 12968\n",
      "[(' Erica', 0.52124435), (' the', 0.19285399), (' Richard', 0.10305162), (' his', 0.05424145), (' a', 0.03678521)]\n",
      "[(' Erica', 0.49352604), (' the', 0.2005273), (' Richard', 0.11449742), (' his', 0.05953489), (' a', 0.03825598)]\n",
      "KL divergence: 0.0022546032\n",
      "Cosine similarity: 0.9990179082384332\n",
      "L2 Norm: 0.02627247\n",
      "---------------------------------------------------------------------------------------------\n",
      "Spanish: ablating latent 12968\n",
      "[(' Richard', 0.3718224), (' Erica', 0.25429702), (' la', 0.15064962), (' su', 0.069329195), (' los', 0.010672977)]\n",
      "[(' Richard', 0.46201813), (' Erica', 0.18862315), (' la', 0.13572133), (' su', 0.06798423), (' los', 0.01016385)]\n",
      "KL divergence: 0.0040506446\n",
      "Cosine similarity: 0.9976905919716774\n",
      "L2 Norm: 0.03836674\n",
      "---------------------------------------------------------------------------------------------\n",
      "French: ablating latent 12968\n",
      "[(' Erica', 0.72699416), (' Richard', 0.057610396), (' l', 0.051163867), (' la', 0.040076338), (' son', 0.020224964)]\n",
      "[(' Erica', 0.6871267), (' Richard', 0.08026061), (' l', 0.05443201), (' la', 0.043275226), (' son', 0.023647148)]\n",
      "KL divergence: 0.0003355832\n",
      "Cosine similarity: 0.9998610824317605\n",
      "L2 Norm: 0.0035391888\n",
      "---------------------------------------------------------------------------------------------\n"
     ]
    }
   ],
   "source": [
    "latent_idx = 12968\n",
    "for lang in [\"English\", \"Spanish\", \"French\"]:\n",
    "    print(f\"{lang}: ablating latent {latent_idx}\")\n",
    "    results_zero = zero_ablate_latent(model, [sae], data_batches[lang], seq_pos=-1, latent_idx=latent_idx)\n",
    "    print(results_zero[\"top_5_orig\"][-1])\n",
    "    print(results_zero[\"top_5_swapped\"][-1])\n",
    "    print(f\"KL divergence:\", results_zero[\"kl_divergence\"])\n",
    "    print(f\"Cosine similarity:\", results_zero[\"cosine_similarity\"])\n",
    "    print(f\"L2 Norm:\", results_zero[\"l2_norm\"])\n",
    "    print(\"---------------------------------------------------------------------------------------------\")"
   ]
  },
  {
   "cell_type": "code",
   "execution_count": 96,
   "metadata": {},
   "outputs": [
    {
     "data": {
      "image/png": "[encoded data removed]",
      "text/plain": [
       "<Figure size 1000x500 with 1 Axes>"
      ]
     },
     "metadata": {},
     "output_type": "display_data"
    }
   ],
   "source": [
    "# Get original activations and compare\n",
    "lang = \"French\"\n",
    "zeroed_latent = 1584\n",
    "test_latent = 1584\n",
    "orig_acts, ablated_acts = compare_copies_zero_ablated(model, [sae], data_batches[lang], seq_pos=-1, zeroed_latent=zeroed_latent, test_latent=test_latent)\n",
    "orig_acts = torch.mean(orig_acts[:, :, test_latent], dim=-1)\n",
    "ablated_acts = torch.mean(ablated_acts[:, :, test_latent], dim=-1)\n",
    "plot_latent_activation_distributions(orig_acts, ablated_acts, \"original\", f\"{zeroed_latent} ablated\", f\"Activation distribution of latent {test_latent} with latent {zeroed_latent} ablated out ({lang})\")"
   ]
  },
  {
   "cell_type": "markdown",
   "metadata": {},
   "source": [
    "# Steering with copies"
   ]
  },
  {
   "cell_type": "code",
   "execution_count": null,
   "metadata": {
    "vscode": {
     "languageId": "julia"
    }
   },
   "outputs": [],
   "source": [
    "from functools import partial\n",
    "\n",
    "saes = [sae]\n",
    "latent_idx = latent_idx\n",
    "lang = \"English\"\n",
    "clean_tokens = model.to_tokens(data[\"prompts\"])\n",
    "answers = data[\"answers\"]\n",
    "labels = torch.Tensor([model.to_single_token(answer) for answer in answers]).int().to(device)\n",
    "\n",
    "# Range of steering coefficients to sweep over\n",
    "coeff_values = range(-80, 81, 10)\n",
    "top_k = 5  # Number of top tokens to track\n",
    "\n",
    "# Data structure to store top token probabilities for each coefficient\n",
    "log_probs_data = {}\n",
    "\n",
    "# Iterate over each steering coefficient\n",
    "for coeff in coeff_values:\n",
    "    # Define the steering hook with the current coefficient\n",
    "    _steering_hook = partial(\n",
    "        steering_hook,\n",
    "        sae=saes[0],\n",
    "        latent_idx=latent_idx,\n",
    "        steering_coefficient=coeff,\n",
    "    )\n",
    "    \n",
    "    # Add the steering hook to the model\n",
    "    model.add_hook(saes[0].cfg.hook_name, _steering_hook, \"fwd\")\n",
    "    \n",
    "    # Run the model with no gradient\n",
    "    with torch.no_grad():\n",
    "        logits = model(clean_tokens)\n",
    "    \n",
    "    # Reset hooks after running\n",
    "    model.reset_hooks()\n",
    "    \n",
    "    # Calculate log probabilities and mean over batch dimension\n",
    "    log_probs = torch.nn.functional.softmax(logits, dim=-1).mean(dim=0)\n",
    "    log_probs_last = log_probs[-1, :]  # Log probs of the last token position\n",
    "\n",
    "    # Get the top 5 tokens and their log probabilities\n",
    "    top_probs, top_tokens = torch.topk(log_probs_last, top_k)\n",
    "    \n",
    "    # Store the token IDs and log probabilities for this coefficient\n",
    "    log_probs_data[coeff] = {\n",
    "        \"tokens\": top_tokens.tolist(),\n",
    "        \"log_probs\": top_probs.tolist()\n",
    "    }\n",
    "print(log_probs_data)"
   ]
  }
 ],
 "metadata": {
  "kernelspec": {
   "display_name": "mech-interp",
   "language": "python",
   "name": "python3"
  },
  "language_info": {
   "codemirror_mode": {
    "name": "ipython",
    "version": 3
   },
   "file_extension": ".py",
   "mimetype": "text/x-python",
   "name": "python",
   "nbconvert_exporter": "python",
   "pygments_lexer": "ipython3",
   "version": "3.11.11"
  }
 },
 "nbformat": 4,
 "nbformat_minor": 2
}
